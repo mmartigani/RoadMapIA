{
  "nbformat": 4,
  "nbformat_minor": 0,
  "metadata": {
    "colab": {
      "provenance": [],
      "authorship_tag": "ABX9TyPHsoQJAIupIVPJNXMG+1O7",
      "include_colab_link": true
    },
    "kernelspec": {
      "name": "python3",
      "display_name": "Python 3"
    },
    "language_info": {
      "name": "python"
    }
  },
  "cells": [
    {
      "cell_type": "markdown",
      "metadata": {
        "id": "view-in-github",
        "colab_type": "text"
      },
      "source": [
        "<a href=\"https://colab.research.google.com/github/mmartigani/RoadMapIA/blob/main/DALLE_3_PROGRAMATICA.ipynb\" target=\"_parent\"><img src=\"https://colab.research.google.com/assets/colab-badge.svg\" alt=\"Open In Colab\"/></a>"
      ]
    },
    {
      "cell_type": "code",
      "execution_count": null,
      "metadata": {
        "id": "rY5F1ZIvJXt8"
      },
      "outputs": [],
      "source": [
        "Acceso programático a DALL-E 3 para la manipulación de imágenes\n",
        "Enunciado del caso práctico\n",
        "En este caso práctico, se propone el desarrollo de una aplicación que\n",
        "permita a los usuarios acceder a DALL-E 3 de manera programática a través de su API.\n",
        "El objetivo es crear una solución que posibilite a los desarrolladores\n",
        "interactuar con DALL-E 3 de manera efectiva y obtener respuestas en tiempo\n",
        "real mediante el uso de la API key proporcionada por OpenAI."
      ]
    },
    {
      "cell_type": "code",
      "source": [
        "!pip install openai==0.28"
      ],
      "metadata": {
        "id": "RHny6-JTJpBz"
      },
      "execution_count": null,
      "outputs": []
    },
    {
      "cell_type": "code",
      "source": [
        "import openai\n",
        "with open(\"/content/drive/MyDrive/api-keys/secret-key.txt\") as f:\n",
        "  openai.api_key = f.readline()"
      ],
      "metadata": {
        "id": "zIP3XLkRJrBW"
      },
      "execution_count": null,
      "outputs": []
    },
    {
      "cell_type": "code",
      "source": [
        "print(openai.api_key)"
      ],
      "metadata": {
        "id": "1quOB2MGJq70"
      },
      "execution_count": null,
      "outputs": []
    },
    {
      "cell_type": "code",
      "source": [
        "response = openai.Image.create(\n",
        "  prompt=\"Un coche rojo en un semaforo\",\n",
        "  n=1,\n",
        "  size=\"1024x1024\"\n",
        ")"
      ],
      "metadata": {
        "id": "QoPot8ptJq3Q"
      },
      "execution_count": null,
      "outputs": []
    },
    {
      "cell_type": "code",
      "source": [
        "print(response['data'][0]['url'])"
      ],
      "metadata": {
        "id": "v0fQtLxJJqxt"
      },
      "execution_count": null,
      "outputs": []
    },
    {
      "cell_type": "code",
      "source": [
        "response = openai.Image.create_edit(\n",
        "  image=open(\"/content/mesa.png\", \"rb\"),\n",
        "  mask=open(\"/content/mesa_mask.png\", \"rb\"),\n",
        "  prompt=\"Una mesa con un recipiente lleno de fruta colocado sobre ella.\",\n",
        "  n=1,\n",
        "  size=\"1024x1024\"\n",
        ")"
      ],
      "metadata": {
        "id": "4kNpn6zcJ1e2"
      },
      "execution_count": null,
      "outputs": []
    },
    {
      "cell_type": "code",
      "source": [
        "print(response['data'][0]['url'])"
      ],
      "metadata": {
        "id": "_716PJPKJ1ZT"
      },
      "execution_count": null,
      "outputs": []
    },
    {
      "cell_type": "code",
      "source": [
        "response = openai.Image.create_variation(\n",
        "  image=open(\"/content/mesa.png\", \"rb\"),\n",
        "  n=1,\n",
        "  size=\"1024x1024\"\n",
        ")"
      ],
      "metadata": {
        "id": "C7ztG-d9J1UB"
      },
      "execution_count": null,
      "outputs": []
    },
    {
      "cell_type": "code",
      "source": [
        "print(response['data'][0]['url'])"
      ],
      "metadata": {
        "id": "VpgAvDwPJ592"
      },
      "execution_count": null,
      "outputs": []
    }
  ]
}
