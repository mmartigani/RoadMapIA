{
  "nbformat": 4,
  "nbformat_minor": 0,
  "metadata": {
    "colab": {
      "provenance": [],
      "authorship_tag": "ABX9TyO49IqQY4HPMIrKqo1OF6de",
      "include_colab_link": true
    },
    "kernelspec": {
      "name": "python3",
      "display_name": "Python 3"
    },
    "language_info": {
      "name": "python"
    }
  },
  "cells": [
    {
      "cell_type": "markdown",
      "metadata": {
        "id": "view-in-github",
        "colab_type": "text"
      },
      "source": [
        "<a href=\"https://colab.research.google.com/github/mmartigani/RoadMapIA/blob/main/RoadMap.ipynb\" target=\"_parent\"><img src=\"https://colab.research.google.com/assets/colab-badge.svg\" alt=\"Open In Colab\"/></a>"
      ]
    },
    {
      "cell_type": "code",
      "execution_count": null,
      "metadata": {
        "id": "vAx02gbSx2WF"
      },
      "outputs": [],
      "source": [
        "# RoadMap artificial intelligence engineer\n",
        "# inglés\n",
        "# linux\n",
        "# redes\n",
        "# seguridad\n",
        "# mysql\n",
        "# git- github\n",
        "# matemáticas\n",
        "# estadísticas y probabilidad\n",
        "# python\n",
        "# uso de librerías\n",
        "# cloud computing\n",
        "# data science\n",
        "# machine learning\n",
        "# deep learning\n",
        "# certificados"
      ]
    }
  ]
}
