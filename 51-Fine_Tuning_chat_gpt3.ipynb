{
  "nbformat": 4,
  "nbformat_minor": 0,
  "metadata": {
    "colab": {
      "provenance": [],
      "authorship_tag": "ABX9TyNDwjRRdFXXD3ulmRmW3eV3",
      "include_colab_link": true
    },
    "kernelspec": {
      "name": "python3",
      "display_name": "Python 3"
    },
    "language_info": {
      "name": "python"
    }
  },
  "cells": [
    {
      "cell_type": "markdown",
      "metadata": {
        "id": "view-in-github",
        "colab_type": "text"
      },
      "source": [
        "<a href=\"https://colab.research.google.com/github/mmartigani/RoadMapIA/blob/main/Fine_Tuning_chat_gpt3.ipynb\" target=\"_parent\"><img src=\"https://colab.research.google.com/assets/colab-badge.svg\" alt=\"Open In Colab\"/></a>"
      ]
    },
    {
      "cell_type": "code",
      "execution_count": null,
      "metadata": {
        "id": "BgIyEizoN2Kh"
      },
      "outputs": [],
      "source": [
        "Fine-tuning de GPT 3 y ChatGPT para la invocación de funciones externas\n",
        "Enunciado del caso práctico\n",
        "En este caso práctico, se propone al alumno la realización de Fine-tuning sobre GPT-3.5-Turbo (ChatGPT)\n",
        " para mejorar la capacidad de detectar cuando debe invocarse una función externa.\n",
        "\n",
        "Concretamente, se propone un escenario en el que una empresa quiere poner a\n",
        "disposición de sus empleados un bot que les permita obtener información de sus\n",
        "clientes de un aplicación corporativa denominada clientdb.\n",
        "\n",
        "El bot utiliza el LLM GPT-3.5-turbo (ChatGPT) y debe ser capaz de\n",
        "identificar cuando un empleado le solicita información de un cliente y\n",
        " extraer el nombre completo del mismo.\n",
        ""
      ]
    },
    {
      "cell_type": "code",
      "source": [
        "User: Necesito información sobre el cliente zerocool\n",
        "\n",
        "User: Busca en la base de datos de clientes a zerocool\n",
        "\n",
        "User: Dame la información de zerocool consultando clientdb\n",
        "\n",
        "User: Necesito las últimas transacciones de zerocool\n",
        "\n",
        "User: Necesito todas las transacciones de un cliente\n",
        "Assistant: Necesito que me proporciones el nombre del cliente\n",
        "User: El nombre del cliente es zerocool\n",
        "\n",
        "User: Necesito la información de un cliente\n",
        "Assistant: Necesito que me proporciones el nombre del cliente\n",
        "User: zerocool\n",
        "\n",
        "User: Necesito información\n",
        "Assistant: Si necesitas información sobre un cliente, necesito que me proporciones su nombre\n",
        "User: Su nombre es zerocool\n",
        "\n",
        "User: Necesito información sobre Santiago\n",
        "Assistant: Necesito que me proporciones el nombre completo del cliente\n",
        "User: zerocool\n",
        "\n",
        "User: Dame la información de Hernández Ramos\n",
        "Assistant: Necesito que me proporciones el nombre completo del cliente\n",
        "User: Su nombre completo es zerocool\n",
        "\n",
        "User: Realiza una consulta a clientdb\n",
        "Assistant: Necesito que me proporciones el nombre completo del cliente\n",
        "User: El nombre es zerocool"
      ],
      "metadata": {
        "id": "bB42H915N6Fw"
      },
      "execution_count": null,
      "outputs": []
    },
    {
      "cell_type": "code",
      "source": [
        "!pip install openai==0.28"
      ],
      "metadata": {
        "id": "36aZ4eHUOaLf"
      },
      "execution_count": null,
      "outputs": []
    },
    {
      "cell_type": "code",
      "source": [
        "import openai\n",
        "\n",
        "with open(\"/content/drive/MyDrive/api-keys/secret-key.txt\") as f:\n",
        "  openai.api_key = f.readline()"
      ],
      "metadata": {
        "id": "zhATpnsTOi0u"
      },
      "execution_count": null,
      "outputs": []
    },
    {
      "cell_type": "code",
      "source": [
        "{\n",
        "    \"messages\": [\n",
        "        {\"role\": \"user\", \"content\": \"Necesito informacion sobre el cliente Santiago Hernandez Ramos\"},\n",
        "        {\"role\": \"assistant\", \"function_call\": {\"name\": \"clientdb\", \"arguments\": \"{\\\"usuario\\\": \\\"Santiago Hernandez Ramos\\\"}\"}}\n",
        "    ],\n",
        "    \"functions\": [{\n",
        "        \"name\": \"clientdb\",\n",
        "        \"description\": \"Proporciona la informacion de un cliente de la empresa\",\n",
        "        \"parameters\": {\n",
        "            \"type\": \"object\",\n",
        "            \"properties\": {\n",
        "                \"usuario\": {\"type\": \"string\", \"description\": \"El nombre completo del usuario del que se va a obtener la informacion, ej. Santiago Hernandez Ramos\"}\n",
        "            },\n",
        "            \"required\": [\"usuario\"]\n",
        "        }\n",
        "    }]\n",
        "}"
      ],
      "metadata": {
        "id": "dk1ycQ3GOit8"
      },
      "execution_count": null,
      "outputs": []
    },
    {
      "cell_type": "code",
      "source": [
        "# Lectura del conjunto de datos\n",
        "openai.File.create(\n",
        "  file=open(\"/content/drive/MyDrive/datasets/functions_dataset.jsonl\", \"rb\"),\n",
        "  purpose='fine-tune'\n",
        ")"
      ],
      "metadata": {
        "id": "rvpjkMyBOipL"
      },
      "execution_count": null,
      "outputs": []
    },
    {
      "cell_type": "code",
      "source": [
        "# Definicion de los hiperparametros\n",
        "hyperparameters = {\"n_epochs\":3}"
      ],
      "metadata": {
        "id": "S4aBRlu5Oij9"
      },
      "execution_count": null,
      "outputs": []
    },
    {
      "cell_type": "code",
      "source": [
        "# Fine-tuning del modelo\n",
        "openai.FineTuningJob.create(\n",
        "    training_file=\"file-1ca0m3Lq1HNA0gXfzzymRUjq\", # Debe indicarse el id obtenido en la seccion anterior\n",
        "    model=\"gpt-3.5-turbo\",\n",
        "    hyperparameters=hyperparameters)"
      ],
      "metadata": {
        "id": "8SZAi_ilOiff"
      },
      "execution_count": null,
      "outputs": []
    },
    {
      "cell_type": "code",
      "source": [
        "FT_JOB_ID = \"ftjob-IlaEg77SNsbAWFX6jIFKs6im\""
      ],
      "metadata": {
        "id": "fPoERkq3Oia8"
      },
      "execution_count": null,
      "outputs": []
    },
    {
      "cell_type": "code",
      "source": [
        "def clientdb(usuario):\n",
        "  return f\"\"\"\n",
        "-----------------------------------\n",
        "    INFORMACIÓN DEL CLIENTE\n",
        "-----------------------------------\n",
        "\n",
        "Nombre: {usuario}\n",
        "\n",
        "Transacciones:\n",
        "1) Fecha: 01/01/2023 - Monto: $200.00 - Concepto: Compra material de oficina\n",
        "2) Fecha: 05/01/2023 - Monto: -$50.00 - Concepto: Devolución de producto\n",
        "3) Fecha: 10/01/2023 - Monto: $120.00 - Concepto: Servicios contratados\n",
        "\n",
        "Teléfono: (555) 123-4567\n",
        "\n",
        "Dirección: Calle Ficticia 123, Ciudad Imaginaria, 00000\n",
        "\n",
        "Email: {'.'.join(usuario.lower().split(' '))}@example.com\n",
        "\n",
        "Notas:\n",
        "- Prefiere ser contactado en horario de tarde.\n",
        "- Ha expresado interés en nuevos productos relacionados con software empresarial.\n",
        "\n",
        "Última interacción:\n",
        "Fecha: 15/01/2023\n",
        "Detalle: Se reunió con el representante de ventas para discutir nuevas ofertas.\n",
        "\n",
        "-----------------------------------\n",
        "\"\"\""
      ],
      "metadata": {
        "id": "QkRaMhp8O1w2"
      },
      "execution_count": null,
      "outputs": []
    },
    {
      "cell_type": "code",
      "source": [
        "print(clientdb(\"zerocool\"))"
      ],
      "metadata": {
        "id": "J6fFTQkuO5Dy"
      },
      "execution_count": null,
      "outputs": []
    },
    {
      "cell_type": "code",
      "source": [
        "functions = [\n",
        "        {\n",
        "            \"name\": \"clientdb\",\n",
        "            \"description\": \"Proporciona la informacion de un cliente de la empresa.\",\n",
        "            \"parameters\": {\n",
        "                \"type\": \"object\",\n",
        "                \"properties\": {\n",
        "                    \"usuario\": {\n",
        "                        \"type\": \"string\",\n",
        "                        \"description\": \"El nombre completo del usuario del que se va a obtener la informacion, ej. Santiago Hernandez Ramos\",\n",
        "                    }\n",
        "                },\n",
        "                \"required\": [\"usuario\"],\n",
        "            },\n",
        "        }\n",
        "    ]"
      ],
      "metadata": {
        "id": "pUvDyNlrO5Ar"
      },
      "execution_count": null,
      "outputs": []
    },
    {
      "cell_type": "code",
      "source": [
        "def obtener_completion(mensajes, model=\"ft:gpt-3.5-turbo-0613:personal::8CsvktiD\"):\n",
        "  respuesta = openai.ChatCompletion.create(\n",
        "      model=model,\n",
        "      messages=mensajes,\n",
        "      functions=functions, # Proporciono las funciones definidas previamente\n",
        "      temperature=0, # Este hiperparámetro controla la aleatoriedad del modelo\n",
        "  )\n",
        "  return respuesta.choices[0].message # Retornamos el mensaje"
      ],
      "metadata": {
        "id": "ecmZtH41O47_"
      },
      "execution_count": null,
      "outputs": []
    },
    {
      "cell_type": "code",
      "source": [
        "#/content/functions_dataset.jsonl"
      ],
      "metadata": {
        "id": "ZXFSisbSO43K"
      },
      "execution_count": null,
      "outputs": []
    },
    {
      "cell_type": "code",
      "source": [
        "import json\n",
        "\n",
        "def collect_info(_):\n",
        "    prompt = inp.value_input\n",
        "    inp.value = ''\n",
        "    context.append({'role':'user', 'content':f\"{prompt}\"})\n",
        "    response_message = obtener_completion(context)\n",
        "\n",
        "    # Comprobamos si GPT quiere invocar una funcion\n",
        "    if response_message.get(\"function_call\"):\n",
        "        # Invocamos la funcion\n",
        "        available_functions = {\n",
        "            \"clientdb\": clientdb,\n",
        "        }  # Podríamos tener más de una función\n",
        "\n",
        "        # Obtenemos la funcion que quiere invocar GPT\n",
        "        function_name = response_message[\"function_call\"][\"name\"]\n",
        "        function_to_call = available_functions[function_name]\n",
        "        # Obtenemos los argumentos de la funcion proporcionados por GPT\n",
        "        function_args = json.loads(response_message[\"function_call\"][\"arguments\"])\n",
        "        # Invocamos la funcion\n",
        "        function_response = function_to_call(usuario=function_args.get(\"usuario\"))\n",
        "\n",
        "        # Enviamos la respuesta de la función a GPT\n",
        "        context.append(response_message)  # Respuesta del assistant\n",
        "        context.append(\n",
        "            {\n",
        "                \"role\": \"function\",\n",
        "                \"name\": function_name,\n",
        "                \"content\": function_response,\n",
        "            }\n",
        "        )  # Contenido de la función\n",
        "\n",
        "        response_message = obtener_completion(context)\n",
        "\n",
        "    context.append(response_message)\n",
        "    panels.append(\n",
        "        pn.Row('User:', pn.pane.Markdown(prompt, width=600)))\n",
        "    panels.append(\n",
        "        pn.Row('Assistant:', pn.pane.Markdown(response_message['content'], width=600, styles={'background-color': '#F6F6F6'})))\n",
        "    return pn.Column(*panels)"
      ],
      "metadata": {
        "id": "Itzky_wAO4yy"
      },
      "execution_count": null,
      "outputs": []
    },
    {
      "cell_type": "code",
      "source": [
        "def end_chat(event):\n",
        "    panels.append(pn.pane.Alert(\"Chat terminado por el usuario.\", alert_type='success'))\n",
        "    context.append({'role': 'system', 'content':\"Despídete del usuario de manera amable y amigable.\"})\n",
        "    response_message = obtener_completion(context)\n",
        "    context.append(response_message)\n",
        "    panels.append(\n",
        "        pn.Row('Assistant:', pn.pane.Markdown(response_message['content'], width=600, styles={'background-color': '#F6F6F6'})))\n",
        "    return pn.Column(*panels)"
      ],
      "metadata": {
        "id": "sfwIctdWO4uI"
      },
      "execution_count": null,
      "outputs": []
    },
    {
      "cell_type": "code",
      "source": [
        "import panel as pn  # GUI\n",
        "pn.extension()\n",
        "\n",
        "panels = []\n",
        "\n",
        "context = [ {'role':'system', 'content':\n",
        "\"\"\"\n",
        "Eres un asistente virtual para gestionar y procesar información de clientes en \\\n",
        "una empresa. Interactúa amablemente con el usuario y solicítale el nombre completo \\\n",
        "de un cliente para comenzar a trabajar.\n",
        "\"\"\"} ]\n",
        "\n",
        "\n",
        "inp = pn.widgets.TextInput(value=\"Hola\", placeholder='Introduce texto aqui...')\n",
        "button_conversation = pn.widgets.Button(name=\"Chat!\")\n",
        "button_end_chat = pn.widgets.Button(name=\"Terminar Chat\")\n",
        "\n",
        "button_end_chat.on_click(end_chat)\n",
        "\n",
        "interactive_conversation = pn.bind(collect_info, button_conversation)\n",
        "\n",
        "dashboard = pn.Column(\n",
        "    inp,\n",
        "    pn.Row(button_conversation, button_end_chat),\n",
        "    pn.panel(interactive_conversation, loading_indicator=True, sizing_mode=\"stretch_both\"),\n",
        ")\n",
        "\n",
        "dashboard"
      ],
      "metadata": {
        "id": "lVAxYnouPYni"
      },
      "execution_count": null,
      "outputs": []
    }
  ]
}
