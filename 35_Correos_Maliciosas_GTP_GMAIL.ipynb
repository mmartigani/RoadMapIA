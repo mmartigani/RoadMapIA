{
  "nbformat": 4,
  "nbformat_minor": 0,
  "metadata": {
    "colab": {
      "provenance": [],
      "authorship_tag": "ABX9TyN1tcHdQJRBpV/dk2aLK96r",
      "include_colab_link": true
    },
    "kernelspec": {
      "name": "python3",
      "display_name": "Python 3"
    },
    "language_info": {
      "name": "python"
    }
  },
  "cells": [
    {
      "cell_type": "markdown",
      "metadata": {
        "id": "view-in-github",
        "colab_type": "text"
      },
      "source": [
        "<a href=\"https://colab.research.google.com/github/mmartigani/RoadMapIA/blob/main/35_Correos_Maliciosas_GTP_GMAIL.ipynb\" target=\"_parent\"><img src=\"https://colab.research.google.com/assets/colab-badge.svg\" alt=\"Open In Colab\"/></a>"
      ]
    },
    {
      "cell_type": "code",
      "execution_count": null,
      "metadata": {
        "id": "nJwgGY-hBucz"
      },
      "outputs": [],
      "source": [
        "\"\"\"En este caso práctico, se propone al alumno el desarrollo de una aplicación que\n",
        "permita detectar de manera automática si un correo electrónico que llega a su bandeja\n",
        "de entrada es malicioso (SPAM o Phishing) o es benigno.\n",
        "Para ello, el alumno debe implementar un programa en Python que acceda de manera\n",
        "programática a los servicios de OpenAI y le permita obtener la clasificación\n",
        "del correo electrónico utilizando un LLM.\n",
        "La aplicación debe ser lo más automática posible, integrandose con el servicio\n",
        "de correo electrónico del alumno para leer automáticamente los mensajes sin abrir\n",
        "de su bandeja de entrada y proporcionar un veredicto antes de que se abran."
      ]
    },
    {
      "cell_type": "code",
      "source": [
        "#!pip install openai==0.28"
      ],
      "metadata": {
        "id": "fJYt_g_JCKUA"
      },
      "execution_count": null,
      "outputs": []
    },
    {
      "cell_type": "code",
      "source": [
        "import openai\n",
        "with open(\"/content/drive/MyDrive/api-keys/secret-key.txt\") as f:\n",
        "  openai.api_key = f.readline()"
      ],
      "metadata": {
        "id": "ZJyRmwppCZ5h"
      },
      "execution_count": null,
      "outputs": []
    },
    {
      "cell_type": "code",
      "source": [
        "def obtener_completion(prompt, model=\"gpt-3.5-turbo\"):\n",
        "  mensaje = [{\"role\": \"user\", \"content\": prompt}]\n",
        "  respuesta = openai.ChatCompletion.create(\n",
        "      model=model,\n",
        "      messages=mensaje,\n",
        "      temperature=0, # Este hiperparámetro controla la aleatoriedad del modelo\n",
        "  )\n",
        "  return respuesta.choices[0].message[\"content\"]"
      ],
      "metadata": {
        "id": "ryG5J6-yCf1f"
      },
      "execution_count": null,
      "outputs": []
    },
    {
      "cell_type": "code",
      "source": [
        "def clasificar_email(correo):\n",
        "  \"\"\"Esta función identifica si un correo electrónico es malicioso o benigno.\"\"\"\n",
        "\n",
        "  prompt = f\"\"\"Actúa como si fueses el mayor experto en Ciberseguridad y\n",
        "  análisis de correos electrónicos del mundo. A continuación te voy\n",
        "  a proporcionar un email delimitado por triples comillas simples.\n",
        "  Tu tarea es determinar si ese correo electrónico es malicioso (SPAM o Phishing) o Benigno.\n",
        "  Para ello, realiza las siguientes acciones:\n",
        "1. Analiza muy en detalle todo el contenido del correo electrónico\n",
        "2. Extrae los patrones que consideras sospechosos desde el punto de vista de la seguridad\n",
        "3. Analiza estos patrones y razona detalladamente el motivo por el que pueden ser maliciosos en el contexto del mensaje completo\n",
        "4. Determina si el email es malioso o benigno.\n",
        "\n",
        "La salida que debes proporcionarme debe ser un JSON con las claves que se muestran a continuación. No debes proporcionar nada más como salida.\n",
        "{{\\\"clasificacion\\\":<MALICIOSO o BENIGNO>}}\n",
        "\n",
        "Email: '''{correo}'''\n",
        "\"\"\"\n",
        "  return obtener_completion(prompt)"
      ],
      "metadata": {
        "id": "OZXotsUyClvR"
      },
      "execution_count": null,
      "outputs": []
    },
    {
      "cell_type": "code",
      "source": [
        "correo1 = \"\"\"Hello Dear. I have a proposition for you, this however is not mandatory nor will I in any manner compel you to honor against your will.Let me start by introducing myself.\n",
        "I am  Mr Author Magnus, manager crew team. I have a mutual beneficial business suggestion for you and a very Important\n",
        " matter that we both had to engage in.\n",
        "\n",
        "1. Can you handle the project?\n",
        "\n",
        "2. Can I give you this trust ?\n",
        "\n",
        "3. Can we work together as partner?\n",
        "\n",
        "Absolute confidentiality is required from you.\n",
        "Besides I will use my connection to get some documents to back up the fund so that the fund can not be question by any authority.\n",
        "More information await you in my next response to your email.\n",
        "\n",
        "Treat as urgent.\n",
        "\n",
        "Yours Sincerely\n",
        "\n",
        "Author Magnus.\"\"\""
      ],
      "metadata": {
        "id": "FiR4rtRuCqF9"
      },
      "execution_count": null,
      "outputs": []
    },
    {
      "cell_type": "code",
      "source": [
        "correo2 = \"\"\"Hola Santiago:\n",
        "\n",
        "Hay una nueva respuesta a \"Kali Linux en Hyper-V\" en tu curso \"Curso completo de Hacking Ético y Ciberseguridad\"\n",
        "\n",
        "Utiliza el botón de abajo para ver la respuesta e indicar si ha sido útil. Allí encontrarás un enlace para \"dejar de seguir\" si prefieres no recibir notificaciones de respuestas futuras.\"\"\""
      ],
      "metadata": {
        "id": "mSFDNqUxCtUC"
      },
      "execution_count": null,
      "outputs": []
    },
    {
      "cell_type": "code",
      "source": [
        "clasificar_email(correo2)"
      ],
      "metadata": {
        "id": "8IipW6-IC1f2"
      },
      "execution_count": null,
      "outputs": []
    },
    {
      "cell_type": "code",
      "source": [
        "\"\"\"Para integrar la aplicación con el servicio de correo electrónico de Gmail,\n",
        "lo primero que debemos hacer es habilitar la API de Gmail y obtener\n",
        "las credenciales necesarias para poder invocarla.\n",
        "En este enlace podéis encontrar el procedimiento oficial:\n",
        " https://developers.google.com/gmail/api/quickstart/python?hl=es-419\n",
        "En este enlace podéis encontrar la referencia de la API de Gmail:\n",
        " https://developers.google.com/gmail/api/reference/rest?hl=es-419"
      ],
      "metadata": {
        "id": "UPsColQ3E5Ec"
      },
      "execution_count": null,
      "outputs": []
    },
    {
      "cell_type": "code",
      "source": [
        "#!pip install --upgrade google-api-python-client google-auth-httplib2 google-auth-oauthlib"
      ],
      "metadata": {
        "id": "9gfhYGebFBqh"
      },
      "execution_count": null,
      "outputs": []
    },
    {
      "cell_type": "code",
      "source": [
        "from __future__ import print_function\n",
        "\n",
        "import os.path\n",
        "\n",
        "from google.auth.transport.requests import Request\n",
        "from google.oauth2.credentials import Credentials\n",
        "from google_auth_oauthlib.flow import InstalledAppFlow\n",
        "from googleapiclient.discovery import build\n",
        "from googleapiclient.errors import HttpError\n",
        "\n",
        "# If modifying these scopes, delete the file token.json.\n",
        "SCOPES = ['https://www.googleapis.com/auth/gmail.readonly']\n",
        "\n",
        "\n",
        "def main():\n",
        "    \"\"\"Shows basic usage of the Gmail API.\n",
        "    Lists the user's Gmail labels.\n",
        "    \"\"\"\n",
        "    creds = None\n",
        "    # The file token.json stores the user's access and refresh tokens, and is\n",
        "    # created automatically when the authorization flow completes for the first\n",
        "    # time.\n",
        "    if os.path.exists('/content/drive/MyDrive/api-keys/token.json'):\n",
        "        creds = Credentials.from_authorized_user_file('/content/drive/MyDrive/api-keys/token.json', SCOPES)\n",
        "    # If there are no (valid) credentials available, let the user log in.\n",
        "    if not creds or not creds.valid:\n",
        "        if creds and creds.expired and creds.refresh_token:\n",
        "            creds.refresh(Request())\n",
        "        else:\n",
        "            flow = InstalledAppFlow.from_client_secrets_file(\n",
        "                'C:\\\\Users\\\\santiago\\\\Downloads\\\\credenciales.json', SCOPES)\n",
        "            creds = flow.run_local_server(port=0)\n",
        "        # Save the credentials for the next run\n",
        "        with open('token.json', 'w') as token:\n",
        "            token.write(creds.to_json())\n",
        "\n",
        "    try:\n",
        "        # Call the Gmail API\n",
        "        # service = build('gmail', 'v1', credentials=creds)\n",
        "        # results = service.users().labels().list(userId='me').execute()\n",
        "        # labels = results.get('labels', [])\n",
        "\n",
        "        service = build('gmail', 'v1', credentials=creds)\n",
        "\n",
        "        results = service.users().messages().list(userId='me', labelIds=['INBOX'], q='is:unread').execute()\n",
        "\n",
        "        for msg in results['messages']:\n",
        "          mensaje = service.users().messages().get(userId='me', id=msg['id']).execute()\n",
        "          print(f\"Analizando el correo: {mensaje['snippet']}\")\n",
        "          print(f\"El correo electrónico con id {msg['id']} es: {clasificar_email(mensaje['snippet'])}\\n\")\n",
        "\n",
        "    except HttpError as error:\n",
        "        # TODO(developer) - Handle errors from gmail API.\n",
        "        print(f'An error occurred: {error}')\n",
        "\n",
        "\n",
        "if __name__ == '__main__':\n",
        "    main()"
      ],
      "metadata": {
        "id": "XPLMa0JcFEWp"
      },
      "execution_count": null,
      "outputs": []
    }
  ]
}