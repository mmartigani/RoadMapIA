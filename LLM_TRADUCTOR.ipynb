{
  "nbformat": 4,
  "nbformat_minor": 0,
  "metadata": {
    "colab": {
      "provenance": [],
      "authorship_tag": "ABX9TyNrnED1FMVmCTKMFYuanH67",
      "include_colab_link": true
    },
    "kernelspec": {
      "name": "python3",
      "display_name": "Python 3"
    },
    "language_info": {
      "name": "python"
    }
  },
  "cells": [
    {
      "cell_type": "markdown",
      "metadata": {
        "id": "view-in-github",
        "colab_type": "text"
      },
      "source": [
        "<a href=\"https://colab.research.google.com/github/mmartigani/RoadMapIA/blob/main/LLM_TRADUCTOR.ipynb\" target=\"_parent\"><img src=\"https://colab.research.google.com/assets/colab-badge.svg\" alt=\"Open In Colab\"/></a>"
      ]
    },
    {
      "cell_type": "code",
      "execution_count": null,
      "metadata": {
        "id": "7xBaCkkqzSaZ"
      },
      "outputs": [],
      "source": [
        "#!pip install transformers torch sentencepiece"
      ]
    },
    {
      "cell_type": "code",
      "source": [
        "from transformers import MarianMTModel, MarianTokenizer\n",
        "\n",
        "# Modelo preentrenado inglés-español\n",
        "model_name = 'Helsinki-NLP/opus-mt-en-es'\n",
        "tokenizer = MarianTokenizer.from_pretrained(model_name)\n",
        "model = MarianMTModel.from_pretrained(model_name)\n",
        "\n",
        "def translate_english_to_spanish(text):\n",
        "    tokens = tokenizer(text, return_tensors=\"pt\", padding=True)\n",
        "    translated = model.generate(**tokens)\n",
        "    translated_text = tokenizer.decode(translated[0], skip_special_tokens=True)\n",
        "    return translated_text\n",
        "\n",
        "\n",
        "english_sentence = \"Hello, how are you today?\"\n",
        "spanish_translation = translate_english_to_spanish(english_sentence)\n",
        "print(f\"English: {english_sentence}\")\n",
        "print(f\"Spanish: {spanish_translation}\")\n",
        "english_sentence = \"i'm very good and you?\"\n",
        "spanish_translation = translate_english_to_spanish(english_sentence)\n",
        "print(f\"English: {english_sentence}\")\n",
        "print(f\"Spanish: {spanish_translation}\")\n",
        "english_sentence = \"do we have want breakfast today?\"\n",
        "spanish_translation = translate_english_to_spanish(english_sentence)\n",
        "print(f\"English: {english_sentence}\")\n",
        "print(f\"Spanish: {spanish_translation}\")\n",
        "english_sentence = \"yes please we want to have coffee with milk, toast and scramble eggs\"\n",
        "spanish_translation = translate_english_to_spanish(english_sentence)\n",
        "print(f\"English: {english_sentence}\")\n",
        "print(f\"Spanish: {spanish_translation}\")"
      ],
      "metadata": {
        "colab": {
          "base_uri": "https://localhost:8080/"
        },
        "id": "PTCZ7cewzdF_",
        "outputId": "6ea65cc5-351b-4372-b14a-745d09b8eb84"
      },
      "execution_count": 5,
      "outputs": [
        {
          "output_type": "stream",
          "name": "stdout",
          "text": [
            "English: Hello, how are you today?\n",
            "Spanish: Hola, ¿cómo estás hoy?\n",
            "English: i'm very good and you?\n",
            "Spanish: ¿Estoy muy bien y tú?\n",
            "English: do we have want breakfast today?\n",
            "Spanish: ¿Queremos desayunar hoy?\n",
            "English: yes please we want to have coffee with milk, toast and scramble eggs\n",
            "Spanish: Sí, por favor, queremos tomar café con leche, tostadas y huevos revueltos.\n"
          ]
        }
      ]
    }
  ]
}