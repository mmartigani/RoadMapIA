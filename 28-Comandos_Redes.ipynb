{
  "nbformat": 4,
  "nbformat_minor": 0,
  "metadata": {
    "colab": {
      "provenance": [],
      "authorship_tag": "ABX9TyMlx3Bxhu2lJGjkHtE4QSYb",
      "include_colab_link": true
    },
    "kernelspec": {
      "name": "python3",
      "display_name": "Python 3"
    },
    "language_info": {
      "name": "python"
    }
  },
  "cells": [
    {
      "cell_type": "markdown",
      "metadata": {
        "id": "view-in-github",
        "colab_type": "text"
      },
      "source": [
        "<a href=\"https://colab.research.google.com/github/mmartigani/RoadMapIA/blob/main/Comandos_Redes.ipynb\" target=\"_parent\"><img src=\"https://colab.research.google.com/assets/colab-badge.svg\" alt=\"Open In Colab\"/></a>"
      ]
    },
    {
      "cell_type": "code",
      "execution_count": null,
      "metadata": {
        "id": "pc6qCDlZMHd-"
      },
      "outputs": [],
      "source": [
        "#Comandos Redes\n",
        "#-----------------------------------\n",
        "#ping www.google.com\n",
        "#ping google.com -c1\n",
        "#ping 192.168.1.0\n",
        "#ping de 192.168.10.89 hacia 192.168.1.66 y entre ellas\n",
        "#no hacen ping (verificar pc Windows firewall y\n",
        "#desactivar, colocando una regla de entrada que\n",
        "#acepte,tráfico icmp)\n",
        "#pasos para hacer una regla de entrada que me\n",
        "#permita la comunicación entre pc\n",
        "#windows defender firewall / reglas de entrada\n",
        "#/programar una regla de entrada y darle nombre\n",
        "#los switches no hacen de firewall\n",
        "#si esta mal configurada la máscara de red debemos\n",
        "#configurar el router como proxy no viene por defecto\n",
        "#mac destino broadcast = ffff.ffff.ffff\n",
        "#puerta de enlace o gateway es la ip del router\n",
        "#loopback localhost\n",
        "#eth0 /ens03\n",
        "#ip -c a\n",
        "#arp -a\n",
        "#kali linux\n",
        "#-------------------------\n",
        "#arp-scan -l\n",
        "#netdiscover\n",
        "#nmap -sn -PR 141.77.12.77/24\n",
        "#nmap -sn -PR 177.34.12/24 –packet-trace T4\n",
        "#nmap -sn -PR 192.168.1.8/24 --packet-trace T4\n",
        "#spoof-mac 12:34:45:12:37:56(suplantación de mac)\n",
        "#wireshark\n",
        "#----------------------------------------------\n",
        "#filtramos en la busqueda /click derecho\n",
        "#/follow/tcp/stream = nos muestra la captura en formato de texto plano\n",
        "#doble click en la captura desglose\n",
        "#frame / interfaces/encapsulacion/number /bytes/time\n",
        "#ethernet /destination Y source de la mac / type\n",
        "#internet protocol / src y dst de la ip /protocol\n",
        "#transmisión protocol /src port y dst port/flags /\n",
        "#conversations/\n",
        "#como ajustar la columna de time\n",
        "#view/time display format\n",
        "#aplicar un filtro click derecho sobre el paquete/conversation filter /tcp/udp etc\n",
        "#selecciono el paquete /statistics /file properties/\n",
        "#vemos el detalle completo de la captura\n",
        "#selecciono el paquete /statistics/protocol hierarchy /\n",
        "#vemos los protocolos que usa por porcentaje o bytes\n",
        "#configuración de perfiles /profiles /new /\n",
        "#statistics / conversations / y elijo el protocolo que quiero ver\n",
        "#agregamos una columna /edit/preferences/column/add\n",
        "#eliminar /edit/preferences/ sacar el tilde para colocar reglas re coloreado\n",
        "#view/color rules /establecer prioridad y color\n",
        "#iltros de busqueda\n",
        "#arp , ip, tcp, udp, dns , dnsserver, not dns\n",
        "#ip.src == 123.456.56.7\n",
        "#ip.dst == 123.456.56.7\n",
        "#ip.addr == 123.456.56.7\n",
        "#tcp.flags.syn == 1\n",
        "#tcp.flags.ack ==1\n",
        "#tcp.flags.fin == 1\n",
        "#tcp.flags.rst == 1\n",
        "#tcp.flags.fin\n",
        "#tcp.port == 443\n",
        "#tcp.dstport == 443\n",
        "#ip.src==177.187.1.88/24 and ip.dst == 177.187.1.88/24\n",
        "#ip.src==177.187.1.88/24 or ip.dst == 177.187.1.88/24\n",
        "#(ip.src == 178.187.1.88/24 or ip.dst ==178.187.1.88/24)&& dns\n",
        "#(ip.src==192.168.1.8 && ip.dst==172.217.173.234) or(ip.src==172.217.172.234 && ip.dst ==192.168.1.8)\n",
        "#ip.addr == 192.168.1.8 && ip.addr == 172.217.173.234\n",
        "#ip.src == 192.168.1.8 && !ip.dst == 172.217.173.234\n",
        "#(ip.src == 192.168.1.8 && !ip.dst == 172.217.173.234)and not udp\n",
        "#tcp.port in {80,443,53,8080}\n",
        "#http.host matches \"\\\\.(com|net)\"\n",
        "#http.request.uri matches \"\\\\.(jpg|png|gif)\"\n",
        "#dns matches \"s..s\"\n",
        "#botón para eliminar color and rules\n",
        "#draw packets in usin your coloring rules pero recordar queda todo en blanco y negro\n",
        "#para cambiar la vista , color, idioma edit/preferences /\n",
        "#layout, columns/font and color /language\n",
        "#para crear un botón de filtros /barra botón + coloco nombre del protocolo y el filtro =\n",
        "#ej https y filter tcp.port ==443\n",
        "#si quiero agrupar todos los botones un solo desplegable ej L4 Protocol // https filter tcp.port ==443\n",
        "#ara borrar un boton solo click derecho en el boton remove"
      ]
    }
  ]
}
