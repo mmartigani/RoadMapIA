{
  "nbformat": 4,
  "nbformat_minor": 0,
  "metadata": {
    "colab": {
      "provenance": [],
      "authorship_tag": "ABX9TyMCwJ4Xawsu50av84VStBf3",
      "include_colab_link": true
    },
    "kernelspec": {
      "name": "python3",
      "display_name": "Python 3"
    },
    "language_info": {
      "name": "python"
    }
  },
  "cells": [
    {
      "cell_type": "markdown",
      "metadata": {
        "id": "view-in-github",
        "colab_type": "text"
      },
      "source": [
        "<a href=\"https://colab.research.google.com/github/mmartigani/RoadMapIA/blob/main/Acceso_Programatico_GPT.ipynb\" target=\"_parent\"><img src=\"https://colab.research.google.com/assets/colab-badge.svg\" alt=\"Open In Colab\"/></a>"
      ]
    },
    {
      "cell_type": "code",
      "source": [
        "\"\"\"En este caso práctico, se propone el desarrollo de una aplicación que\n",
        "permita a los usuarios acceder a ChatGPT de manera programática\n",
        "a través de su API.\n",
        "El objetivo es crear una solución que posibilite a los desarrolladores\n",
        "interactuar con ChatGPT de manera efectiva y obtener respuestas en tiempo\n",
        "real mediante el uso de la API key proporcionada por OpenAI.\"\"\""
      ],
      "metadata": {
        "id": "c-p8hvov-a3N"
      },
      "execution_count": null,
      "outputs": []
    },
    {
      "cell_type": "code",
      "source": [
        "#!pip install openai==0.28"
      ],
      "metadata": {
        "id": "CqASAsOE-axB"
      },
      "execution_count": 2,
      "outputs": []
    },
    {
      "cell_type": "code",
      "source": [
        "import openai\n",
        "with open(\"/content/api_openia.txt\") as f:\n",
        "  openai.api_key = f.readline()"
      ],
      "metadata": {
        "id": "ZTZ1S2xu-auF"
      },
      "execution_count": 3,
      "outputs": []
    },
    {
      "cell_type": "code",
      "source": [
        "#print(openai.api_key)"
      ],
      "metadata": {
        "id": "xcvZfEyA-aq1"
      },
      "execution_count": 5,
      "outputs": []
    },
    {
      "cell_type": "code",
      "source": [
        "\"\"\"OpenAI nos ofrece una amplia variedad de modelos que podemos utilizar de manera\n",
        "programática para diferentes tareas.\n",
        "Nosotros estamos interesados en LLMs específicamente entrenados para entender\n",
        "lenguaje natural e interactuar con el usuario en forma de chat.\n",
        "Teniendo esto en cuenta, podemos elegir entre los siguientes:\n",
        "https://platform.openai.com/docs/guides/gpt\n",
        "Para este caso práctico vamos a seleccionar gpt-3.5-turbo\"\"\""
      ],
      "metadata": {
        "id": "ArlQSoY5-akG"
      },
      "execution_count": null,
      "outputs": []
    },
    {
      "cell_type": "code",
      "source": [
        "#FUNCION PARA obtener la respuesta del LLM\n",
        "def obtener_completion(prompt, model=\"gpt-3.5-turbo\"):\n",
        "  mensaje = [{\"role\": \"user\", \"content\": prompt}]\n",
        "  respuesta = openai.ChatCompletion.create(\n",
        "      model=model,\n",
        "      messages=mensaje,\n",
        "      temperature=0, # Este hiperparámetro controla la aleatoriedad del modelo\n",
        "  )\n",
        "  return respuesta.choices[0].message[\"content\"]"
      ],
      "metadata": {
        "id": "dVR-_eyu-aW_"
      },
      "execution_count": null,
      "outputs": []
    },
    {
      "cell_type": "code",
      "source": [
        "prompt = f\"\"\"Teniendo en cuenta el texto que se proporciona entre triples comillas simples, \\\n",
        "tu tarea es extraer todas las fechas que aparecen y una descripción de no más de 10 palabras \\\n",
        "de lo que ocurrió en esa fecha.\n",
        "\n",
        "El formato de salida debe ser el siguiente:\n",
        "<fecha1>:<descripcion1>\n",
        "<fecha2>:<descripcion2>\n",
        "...\n",
        "<fechaN>:<descipcionN>\n",
        "\n",
        "Texto:\n",
        "'''\n",
        "La Segunda Guerra Mundial (también escrito II Guerra Mundial)1​ fue un conflicto militar global que se desarrolló entre 1939 y 1945. En ella se vieron implicadas la mayor parte de las naciones del mundo —incluidas todas las grandes potencias, así como prácticamente todas las naciones europeas— agrupadas en dos alianzas militares enfrentadas: los Aliados, por un lado, y las Potencias del Eje, por otro. Fue la mayor contienda bélica de la historia, con más de 100 millones de militares movilizados y un estado de guerra total en que los grandes contendientes destinaron toda su capacidad económica, militar y científica al servicio del esfuerzo bélico, borrando la distinción entre recursos civiles y militares. Marcada por hechos de enorme repercusión que incluyeron la muerte masiva de civiles (el Holocausto, los bombardeos masivos sobre ciudades y el uso, por primera vez en un conflicto militar, de armas nucleares), la Segunda Guerra Mundial fue la más mortífera de la historia, con un resultado de entre 50 y 70 millones de víctimas, el 2,5 % de la población mundial.2​\n",
        "\n",
        "El comienzo del conflicto se suele situar en el 1 de septiembre de 1939, con la invasión alemana de Polonia, cuando Hitler se decidió a la incorporación de una de sus reivindicaciones expansionistas más delicadas: El Corredor Polaco, que implicaba la invasión de la mitad occidental de Polonia; la mitad oriental, junto con Estonia, Letonia y Lituania fue ocupada por la Unión Soviética, mientras que Finlandia logró mantener su independencia de los soviéticos (guerra de Invierno). El Reino Unido y Francia le declararon la guerra a Alemania, que esperaban como una repetición de la guerra de trincheras («guerra de mentira») para la que habían tomado toda clase de precauciones (línea Maginot) que demostraron ser del todo inútiles. Las maniobras espectaculares de la blitzkrieg (\"guerra relámpago\") proporcionaron en pocos meses a Alemania el control de Noruega, Dinamarca, Países Bajos, Bélgica y la propia Francia, mientras que el ejército británico escapaba in extremis desde las playas de Dunkerque durante la batalla de Francia. La mayor parte del continente europeo estaba ocupado por el ejército alemán o por sus aliados, entre los que destacaba la Italia fascista, cuya aportación militar no fue muy significativa (batalla de los Alpes, guerra greco-italiana).\n",
        "\n",
        "La batalla de Inglaterra, la primera completamente aérea de la historia, mantuvo durante el periodo siguiente la presión sobre el nuevo gobierno de Winston Churchill, decidido a la resistencia («sangre, sudor y lágrimas») y que finalmente venció, entre otras cosas gracias a una innovación tecnológica (el radar) y al decisivo apoyo estadounidense, que negoció en varias entrevistas con Franklin D. Roosevelt (Carta del Atlántico, 14 de agosto de 1941).\n",
        "'''\n",
        "\"\"\""
      ],
      "metadata": {
        "id": "OAxtHEcBAbpk"
      },
      "execution_count": null,
      "outputs": []
    },
    {
      "cell_type": "code",
      "source": [
        "respuesta = obtener_completion(prompt)"
      ],
      "metadata": {
        "id": "6ZWwLZdLAiu0"
      },
      "execution_count": null,
      "outputs": []
    },
    {
      "cell_type": "code",
      "source": [
        "print(respuesta)"
      ],
      "metadata": {
        "id": "hBm9yHaDA7pZ"
      },
      "execution_count": null,
      "outputs": []
    }
  ]
}