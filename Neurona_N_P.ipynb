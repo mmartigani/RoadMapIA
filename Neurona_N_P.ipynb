{
  "nbformat": 4,
  "nbformat_minor": 0,
  "metadata": {
    "colab": {
      "provenance": [],
      "authorship_tag": "ABX9TyMG1KpzjZC+SU6uNKPouSh9",
      "include_colab_link": true
    },
    "kernelspec": {
      "name": "python3",
      "display_name": "Python 3"
    },
    "language_info": {
      "name": "python"
    }
  },
  "cells": [
    {
      "cell_type": "markdown",
      "metadata": {
        "id": "view-in-github",
        "colab_type": "text"
      },
      "source": [
        "<a href=\"https://colab.research.google.com/github/mmartigani/RoadMapIA/blob/main/Neurona_N_P.ipynb\" target=\"_parent\"><img src=\"https://colab.research.google.com/assets/colab-badge.svg\" alt=\"Open In Colab\"/></a>"
      ]
    },
    {
      "cell_type": "code",
      "execution_count": 1,
      "metadata": {
        "id": "hTFJJIgFDyub"
      },
      "outputs": [],
      "source": [
        "import numpy as np\n",
        "\n",
        "class MPNeuron:\n",
        "\n",
        "    def __init__(self):\n",
        "        self.threshold = None\n",
        "\n",
        "    def model(self, x):\n",
        "        # input: [1, 0, 1, 0] [x1, x2, .., xn]\n",
        "        z = sum(x)\n",
        "        return (z >= self.threshold)\n",
        "\n",
        "    def predict(self, X):\n",
        "        # input: [[1, 0, 1, 0], [1, 0, 1, 1]]\n",
        "        Y = []\n",
        "        for x in X:\n",
        "            result = self.model(x)\n",
        "            Y.append(result)\n",
        "        return np.array(Y)"
      ]
    },
    {
      "cell_type": "code",
      "source": [
        "# Instanciamos la neurona\n",
        "mp_neuron = MPNeuron()"
      ],
      "metadata": {
        "id": "ef6XlzWqD3Z7"
      },
      "execution_count": 2,
      "outputs": []
    },
    {
      "cell_type": "code",
      "source": [
        "# Establecemos un threshold\n",
        "mp_neuron.threshold = 4"
      ],
      "metadata": {
        "id": "RI5x2MBRD7Ej"
      },
      "execution_count": 3,
      "outputs": []
    },
    {
      "cell_type": "code",
      "source": [
        "# Evaluamos diferentes casos de uso\n",
        "mp_neuron.predict([[1, 0, 0, 0], [1, 1, 1, 1], [1, 1, 1, 0]])"
      ],
      "metadata": {
        "colab": {
          "base_uri": "https://localhost:8080/"
        },
        "id": "-vS6qJfWD-FZ",
        "outputId": "b950bd3c-8af1-4928-d5fa-ab0ff68f43a6"
      },
      "execution_count": 4,
      "outputs": [
        {
          "output_type": "execute_result",
          "data": {
            "text/plain": [
              "array([False,  True, False])"
            ]
          },
          "metadata": {},
          "execution_count": 4
        }
      ]
    }
  ]
}