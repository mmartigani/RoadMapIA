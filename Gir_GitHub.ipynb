{
  "nbformat": 4,
  "nbformat_minor": 0,
  "metadata": {
    "colab": {
      "provenance": [],
      "authorship_tag": "ABX9TyPInPV57yMK5Um6BAiU6mYM",
      "include_colab_link": true
    },
    "kernelspec": {
      "name": "python3",
      "display_name": "Python 3"
    },
    "language_info": {
      "name": "python"
    }
  },
  "cells": [
    {
      "cell_type": "markdown",
      "metadata": {
        "id": "view-in-github",
        "colab_type": "text"
      },
      "source": [
        "<a href=\"https://colab.research.google.com/github/mmartigani/RoadMapIA/blob/main/Gir_GitHub.ipynb\" target=\"_parent\"><img src=\"https://colab.research.google.com/assets/colab-badge.svg\" alt=\"Open In Colab\"/></a>"
      ]
    },
    {
      "cell_type": "code",
      "execution_count": null,
      "metadata": {
        "id": "0QE-wuWVOw2d"
      },
      "outputs": [],
      "source": [
        "#git/github\n",
        "#--------------------\n",
        "#download git\n",
        "#open git bash $\n",
        "#create a folder and write the code here\n",
        "#git init\n",
        "#git status\n",
        "#git add index.html\n",
        "#git status\n",
        "#git commit -m “add file html”\n",
        "#if make a change in the programing\n",
        "#git add  - -all\n",
        "#git status\n",
        "#git commit -m “new change”\n",
        "#download github\n",
        "#create the new project / put the name\n",
        "#copy and push command line and paste in git\n",
        "#reload the page\n",
        "#for the changes in the code\n",
        "#git add --all\n",
        "#git commit -t “new change in this code “\n",
        "#git remote -v\n",
        "#git push origin main\n",
        "#—------------------------------\n",
        "#open de folder in the git bash\n",
        "#git init\n",
        "#git clone + url the repository\n",
        "#—-------------------------------------\n",
        "#to ignore the file create a .gitignore file and place the file you want to ignore inside\n",
        "#—-----------------------------------------\n",
        "#create inside de folder a README.MD\n",
        "#—------------------------------------------------\n",
        "#write markdown to the readme.md file\n",
        "#titles from highest or lowest\n",
        "#\n",
        "##\n",
        "###\n",
        "####\n",
        "#####\n",
        "######\n",
        "#*italica*\n",
        "#_italica_\n",
        "#**bold o strong**\n",
        "#__bold o strong__\n",
        "#~~tachado~~\n",
        "#ordered list\n",
        "#1- first\n",
        "#unordered list\n",
        "#first\n",
        "#links\n",
        "#<a href=”http://www.google.com” esto es un link /a>\n",
        "#[ this a link to the markdown](http://www.google.com)\n",
        "#images\n",
        "#![ logo github](https://url of the image)\n",
        "#quotes\n",
        "#> put the quotes\n",
        "#dividing lines\n",
        "#- - -\n",
        "#***\n",
        "#—-\n"
      ]
    }
  ]
}