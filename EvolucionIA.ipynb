{
  "nbformat": 4,
  "nbformat_minor": 0,
  "metadata": {
    "colab": {
      "provenance": [],
      "authorship_tag": "ABX9TyOFnR+/RvpM5/WE06nmmwZF",
      "include_colab_link": true
    },
    "kernelspec": {
      "name": "python3",
      "display_name": "Python 3"
    },
    "language_info": {
      "name": "python"
    }
  },
  "cells": [
    {
      "cell_type": "markdown",
      "metadata": {
        "id": "view-in-github",
        "colab_type": "text"
      },
      "source": [
        "<a href=\"https://colab.research.google.com/github/mmartigani/RoadMapIA/blob/main/EvolucionIA.ipynb\" target=\"_parent\"><img src=\"https://colab.research.google.com/assets/colab-badge.svg\" alt=\"Open In Colab\"/></a>"
      ]
    },
    {
      "cell_type": "code",
      "source": [
        "import plotly.graph_objects as go\n",
        "import pandas as pd\n",
        "import numpy as np\n",
        "\n",
        "years = np.arange(2000, 2026)\n",
        "technologies = ['Machine Learning', 'Deep Learning', 'Natural Language Processing',\n",
        "                'Computer Vision', 'Reinforcement Learning']\n",
        "data = {\n",
        "    'Year': np.repeat(years, len(technologies)),\n",
        "    'Technology': technologies * len(years),\n",
        "    'Popularity': np.concatenate([\n",
        "        np.linspace(20, 90, len(years)),\n",
        "        np.linspace(10, 95, len(years)),\n",
        "        np.linspace(15, 85, len(years)),\n",
        "        np.linspace(10, 75, len(years)),\n",
        "        np.linspace(5, 60, len(years))\n",
        "    ])\n",
        "}\n",
        "df = pd.DataFrame(data)\n",
        "\n",
        "fig = go.Figure()\n",
        "\n",
        "colors = ['red', 'blue', 'green', 'purple', 'orange']\n",
        "for i, tech in enumerate(technologies):\n",
        "    tech_data = df[df['Technology'] == tech]\n",
        "    fig.add_trace(go.Scatter3d(\n",
        "        x=tech_data['Year'],\n",
        "        y=[i] * len(tech_data),\n",
        "        z=tech_data['Popularity'],\n",
        "        mode='lines+markers',\n",
        "        name=tech,\n",
        "        line=dict(color=colors[i], width=4),\n",
        "        marker=dict(size=5),\n",
        "    ))\n",
        "\n",
        "\n",
        "t = np.linspace(0, 2 * np.pi, 100)\n",
        "x_sphere = 2025 + 0.5 * np.sin(t)\n",
        "y_sphere = np.full_like(t, 2.5)\n",
        "z_sphere = 100 + 5 * np.cos(t)\n",
        "\n",
        "fig.add_trace(go.Scatter3d(\n",
        "    x=x_sphere, y=y_sphere, z=z_sphere,\n",
        "    mode='lines',\n",
        "    line=dict(color='cyan', width=6),\n",
        "    name='Progreso',\n",
        "    showlegend=True\n",
        "))\n",
        "\n",
        "\n",
        "fig.update_layout(\n",
        "    title='Evolución de la Inteligencia Artificial hasta 2025',\n",
        "    scene=dict(\n",
        "        xaxis_title='Año',\n",
        "        yaxis_title='Tecnología (Index)',\n",
        "        zaxis_title='Popularidad (%)',\n",
        "        yaxis=dict(\n",
        "            tickmode='array',\n",
        "            tickvals=list(range(len(technologies))),\n",
        "            ticktext=technologies\n",
        "        )\n",
        "    ),\n",
        "    template='plotly_dark',\n",
        "    margin=dict(l=0, r=0, b=0, t=50)\n",
        ")\n",
        "\n",
        "fig.show()\n"
      ],
      "metadata": {
        "colab": {
          "base_uri": "https://localhost:8080/",
          "height": 542
        },
        "id": "-jiAt2eke83r",
        "outputId": "938ad118-a4d4-42ad-cd99-3075f7516374"
      },
      "execution_count": null,
      "outputs": [
        {
          "output_type": "display_data",
          "data": {
            "text/html": [
              "<html>\n",
              "<head><meta charset=\"utf-8\" /></head>\n",
              "<body>\n",
              "    <div>            <script src=\"https://cdnjs.cloudflare.com/ajax/libs/mathjax/2.7.5/MathJax.js?config=TeX-AMS-MML_SVG\"></script><script type=\"text/javascript\">if (window.MathJax && window.MathJax.Hub && window.MathJax.Hub.Config) {window.MathJax.Hub.Config({SVG: {font: \"STIX-Web\"}});}</script>                <script type=\"text/javascript\">window.PlotlyConfig = {MathJaxConfig: 'local'};</script>\n",
              "        <script charset=\"utf-8\" src=\"https://cdn.plot.ly/plotly-2.35.2.min.js\"></script>                <div id=\"2b4e2e91-1ee6-43ca-a4a2-f4703650e158\" class=\"plotly-graph-div\" style=\"height:525px; width:100%;\"></div>            <script type=\"text/javascript\">                                    window.PLOTLYENV=window.PLOTLYENV || {};                                    if (document.getElementById(\"2b4e2e91-1ee6-43ca-a4a2-f4703650e158\")) {                    Plotly.newPlot(                        \"2b4e2e91-1ee6-43ca-a4a2-f4703650e158\",                        [{\"line\":{\"color\":\"red\",\"width\":4},\"marker\":{\"size\":5},\"mode\":\"lines+markers\",\"name\":\"Machine Learning\",\"x\":[2000,2001,2002,2003,2004,2005,2006,2007,2008,2009,2010,2011,2012,2013,2014,2015,2016,2017,2018,2019,2020,2021,2022,2023,2024,2025],\"y\":[0,0,0,0,0,0,0,0,0,0,0,0,0,0,0,0,0,0,0,0,0,0,0,0,0,0],\"z\":[20.0,34.0,48.0,62.0,76.0,90.0,23.6,40.599999999999994,57.6,74.6,91.6,23.4,37.4,51.4,65.4,79.39999999999999,15.2,28.2,41.2,54.2,67.2,7.2,18.200000000000003,29.200000000000003,40.2,51.2],\"type\":\"scatter3d\"},{\"line\":{\"color\":\"blue\",\"width\":4},\"marker\":{\"size\":5},\"mode\":\"lines+markers\",\"name\":\"Deep Learning\",\"x\":[2000,2001,2002,2003,2004,2005,2006,2007,2008,2009,2010,2011,2012,2013,2014,2015,2016,2017,2018,2019,2020,2021,2022,2023,2024,2025],\"y\":[1,1,1,1,1,1,1,1,1,1,1,1,1,1,1,1,1,1,1,1,1,1,1,1,1,1],\"z\":[22.8,36.8,50.8,64.8,78.8,10.0,27.0,44.0,61.0,78.0,95.0,26.2,40.2,54.199999999999996,68.19999999999999,82.19999999999999,17.8,30.8,43.800000000000004,56.800000000000004,69.80000000000001,9.4,20.400000000000002,31.400000000000002,42.400000000000006,53.400000000000006],\"type\":\"scatter3d\"},{\"line\":{\"color\":\"green\",\"width\":4},\"marker\":{\"size\":5},\"mode\":\"lines+markers\",\"name\":\"Natural Language Processing\",\"x\":[2000,2001,2002,2003,2004,2005,2006,2007,2008,2009,2010,2011,2012,2013,2014,2015,2016,2017,2018,2019,2020,2021,2022,2023,2024,2025],\"y\":[2,2,2,2,2,2,2,2,2,2,2,2,2,2,2,2,2,2,2,2,2,2,2,2,2,2],\"z\":[25.6,39.599999999999994,53.599999999999994,67.6,81.6,13.4,30.4,47.4,64.4,81.39999999999999,15.0,29.0,43.0,57.0,71.0,85.0,20.4,33.400000000000006,46.4,59.4,72.4,11.600000000000001,22.6,33.6,44.6,55.6],\"type\":\"scatter3d\"},{\"line\":{\"color\":\"purple\",\"width\":4},\"marker\":{\"size\":5},\"mode\":\"lines+markers\",\"name\":\"Computer Vision\",\"x\":[2000,2001,2002,2003,2004,2005,2006,2007,2008,2009,2010,2011,2012,2013,2014,2015,2016,2017,2018,2019,2020,2021,2022,2023,2024,2025],\"y\":[3,3,3,3,3,3,3,3,3,3,3,3,3,3,3,3,3,3,3,3,3,3,3,3,3,3],\"z\":[28.4,42.4,56.4,70.4,84.39999999999999,16.8,33.8,50.8,67.8,84.8,17.8,31.799999999999997,45.8,59.8,73.8,10.0,23.0,36.0,49.0,62.0,75.0,13.8,24.8,35.800000000000004,46.800000000000004,57.800000000000004],\"type\":\"scatter3d\"},{\"line\":{\"color\":\"orange\",\"width\":4},\"marker\":{\"size\":5},\"mode\":\"lines+markers\",\"name\":\"Reinforcement Learning\",\"x\":[2000,2001,2002,2003,2004,2005,2006,2007,2008,2009,2010,2011,2012,2013,2014,2015,2016,2017,2018,2019,2020,2021,2022,2023,2024,2025],\"y\":[4,4,4,4,4,4,4,4,4,4,4,4,4,4,4,4,4,4,4,4,4,4,4,4,4,4],\"z\":[31.2,45.2,59.199999999999996,73.19999999999999,87.19999999999999,20.2,37.2,54.199999999999996,71.19999999999999,88.2,20.6,34.599999999999994,48.599999999999994,62.599999999999994,76.6,12.6,25.6,38.6,51.6,64.6,5.0,16.0,27.0,38.0,49.0,60.0],\"type\":\"scatter3d\"},{\"line\":{\"color\":\"cyan\",\"width\":6},\"mode\":\"lines\",\"name\":\"Progreso\",\"showlegend\":true,\"x\":[2025.0,2025.0317119598283,2025.0632962267869,2025.0946256221803,2025.1255739935905,2025.1560167228492,2025.1858312278302,2025.2148974560446,2025.2430983680501,2025.270320408728,2025.2964539645272,2025.3213938048432,2025.3450395057412,2025.3672958543289,2025.3880732321459,2025.4072879760251,2025.4248627149748,2025.4407266817238,2025.4548159976773,2025.4670739301325,2025.477451120722,2025.4859057841618,2025.4924038765062,2025.4969192322305,2025.4994336695916,2025.499937063837,2025.4984273879759,2025.4949107209404,2025.4894012231073,2025.48192107928,2025.4725004093573,2025.4611771470522,2025.4479968871456,2025.4330127018923,2025.4162849273173,2025.3978809202654,2025.3778747871772,2025.3563470856893,2025.333384500258,2025.3090794931104,2025.2835299319313,2025.2568386957867,2025.2291132608636,2025.2004652677033,2025.1710100716627,2025.1408662784206,2025.1101552663933,2025.0790006979867,2025.0475280216522,2025.015863966749,2024.984136033251,2024.9524719783478,2024.9209993020133,2024.8898447336067,2024.8591337215794,2024.8289899283373,2024.7995347322967,2024.7708867391364,2024.7431613042133,2024.7164700680687,2024.6909205068896,2024.666615499742,2024.6436529143107,2024.6221252128228,2024.6021190797346,2024.5837150726827,2024.5669872981077,2024.5520031128544,2024.5388228529478,2024.5274995906427,2024.51807892072,2024.5105987768927,2024.5050892790596,2024.5015726120241,2024.500062936163,2024.5005663304084,2024.5030807677695,2024.5075961234938,2024.5140942158382,2024.522548879278,2024.5329260698675,2024.5451840023227,2024.5592733182762,2024.5751372850252,2024.5927120239749,2024.6119267678541,2024.6327041456711,2024.6549604942588,2024.6786061951568,2024.7035460354728,2024.729679591272,2024.7569016319499,2024.7851025439554,2024.8141687721698,2024.8439832771508,2024.8744260064095,2024.9053743778197,2024.9367037732131,2024.9682880401717,2025.0],\"y\":[2.5,2.5,2.5,2.5,2.5,2.5,2.5,2.5,2.5,2.5,2.5,2.5,2.5,2.5,2.5,2.5,2.5,2.5,2.5,2.5,2.5,2.5,2.5,2.5,2.5,2.5,2.5,2.5,2.5,2.5,2.5,2.5,2.5,2.5,2.5,2.5,2.5,2.5,2.5,2.5,2.5,2.5,2.5,2.5,2.5,2.5,2.5,2.5,2.5,2.5,2.5,2.5,2.5,2.5,2.5,2.5,2.5,2.5,2.5,2.5,2.5,2.5,2.5,2.5,2.5,2.5,2.5,2.5,2.5,2.5,2.5,2.5,2.5,2.5,2.5,2.5,2.5,2.5,2.5,2.5,2.5,2.5,2.5,2.5,2.5,2.5,2.5,2.5,2.5,2.5,2.5,2.5,2.5,2.5,2.5,2.5,2.5,2.5,2.5,2.5],\"z\":[105.0,104.98993338235942,104.95977406415398,104.90964348631353,104.83974350698178,104.75035558870472,104.64183966508037,104.5146326914331,104.36924688534893,104.2062676641559,104.02635128765529,103.83022221559489,103.61867019052535,103.39254705778566,103.1527633354226,102.90028454785599,102.63612733805252,102.36135537386342,102.07707506500944,101.78443110795936,101.48460187664138,101.17879467754713,100.86824088833465,100.55419099950505,100.2379095791187,99.92067018082597,99.60375021571606,99.28842580863358,98.97596665967404,98.66763093154982,98.3646601834129,98.06827437153436,97.77966693697113,97.5,97.23039968066945,96.97195156431167,96.72569633027358,96.49262556146839,96.27367775162122,96.06973452628606,95.88161709285083,95.71008293382512,95.55582275672538,95.41945771283966,95.30153689607046,95.20253513192752,95.12285106557296,95.06280555661803,95.02264038713457,95.00251728808408,95.00251728808408,95.02264038713457,95.06280555661803,95.12285106557296,95.20253513192752,95.30153689607046,95.41945771283966,95.55582275672538,95.71008293382512,95.88161709285083,96.06973452628607,96.27367775162122,96.4926255614684,96.72569633027358,96.97195156431167,97.23039968066945,97.5,97.77966693697113,98.06827437153436,98.3646601834129,98.66763093154982,98.97596665967404,99.28842580863358,99.60375021571606,99.92067018082597,100.2379095791187,100.55419099950505,100.86824088833465,101.17879467754713,101.48460187664138,101.78443110795936,102.07707506500944,102.36135537386342,102.63612733805252,102.90028454785599,103.15276333542262,103.39254705778566,103.61867019052535,103.83022221559489,104.02635128765529,104.2062676641559,104.36924688534893,104.5146326914331,104.64183966508037,104.75035558870472,104.83974350698178,104.90964348631354,104.95977406415398,104.98993338235942,105.0],\"type\":\"scatter3d\"}],                        {\"template\":{\"data\":{\"barpolar\":[{\"marker\":{\"line\":{\"color\":\"rgb(17,17,17)\",\"width\":0.5},\"pattern\":{\"fillmode\":\"overlay\",\"size\":10,\"solidity\":0.2}},\"type\":\"barpolar\"}],\"bar\":[{\"error_x\":{\"color\":\"#f2f5fa\"},\"error_y\":{\"color\":\"#f2f5fa\"},\"marker\":{\"line\":{\"color\":\"rgb(17,17,17)\",\"width\":0.5},\"pattern\":{\"fillmode\":\"overlay\",\"size\":10,\"solidity\":0.2}},\"type\":\"bar\"}],\"carpet\":[{\"aaxis\":{\"endlinecolor\":\"#A2B1C6\",\"gridcolor\":\"#506784\",\"linecolor\":\"#506784\",\"minorgridcolor\":\"#506784\",\"startlinecolor\":\"#A2B1C6\"},\"baxis\":{\"endlinecolor\":\"#A2B1C6\",\"gridcolor\":\"#506784\",\"linecolor\":\"#506784\",\"minorgridcolor\":\"#506784\",\"startlinecolor\":\"#A2B1C6\"},\"type\":\"carpet\"}],\"choropleth\":[{\"colorbar\":{\"outlinewidth\":0,\"ticks\":\"\"},\"type\":\"choropleth\"}],\"contourcarpet\":[{\"colorbar\":{\"outlinewidth\":0,\"ticks\":\"\"},\"type\":\"contourcarpet\"}],\"contour\":[{\"colorbar\":{\"outlinewidth\":0,\"ticks\":\"\"},\"colorscale\":[[0.0,\"#0d0887\"],[0.1111111111111111,\"#46039f\"],[0.2222222222222222,\"#7201a8\"],[0.3333333333333333,\"#9c179e\"],[0.4444444444444444,\"#bd3786\"],[0.5555555555555556,\"#d8576b\"],[0.6666666666666666,\"#ed7953\"],[0.7777777777777778,\"#fb9f3a\"],[0.8888888888888888,\"#fdca26\"],[1.0,\"#f0f921\"]],\"type\":\"contour\"}],\"heatmapgl\":[{\"colorbar\":{\"outlinewidth\":0,\"ticks\":\"\"},\"colorscale\":[[0.0,\"#0d0887\"],[0.1111111111111111,\"#46039f\"],[0.2222222222222222,\"#7201a8\"],[0.3333333333333333,\"#9c179e\"],[0.4444444444444444,\"#bd3786\"],[0.5555555555555556,\"#d8576b\"],[0.6666666666666666,\"#ed7953\"],[0.7777777777777778,\"#fb9f3a\"],[0.8888888888888888,\"#fdca26\"],[1.0,\"#f0f921\"]],\"type\":\"heatmapgl\"}],\"heatmap\":[{\"colorbar\":{\"outlinewidth\":0,\"ticks\":\"\"},\"colorscale\":[[0.0,\"#0d0887\"],[0.1111111111111111,\"#46039f\"],[0.2222222222222222,\"#7201a8\"],[0.3333333333333333,\"#9c179e\"],[0.4444444444444444,\"#bd3786\"],[0.5555555555555556,\"#d8576b\"],[0.6666666666666666,\"#ed7953\"],[0.7777777777777778,\"#fb9f3a\"],[0.8888888888888888,\"#fdca26\"],[1.0,\"#f0f921\"]],\"type\":\"heatmap\"}],\"histogram2dcontour\":[{\"colorbar\":{\"outlinewidth\":0,\"ticks\":\"\"},\"colorscale\":[[0.0,\"#0d0887\"],[0.1111111111111111,\"#46039f\"],[0.2222222222222222,\"#7201a8\"],[0.3333333333333333,\"#9c179e\"],[0.4444444444444444,\"#bd3786\"],[0.5555555555555556,\"#d8576b\"],[0.6666666666666666,\"#ed7953\"],[0.7777777777777778,\"#fb9f3a\"],[0.8888888888888888,\"#fdca26\"],[1.0,\"#f0f921\"]],\"type\":\"histogram2dcontour\"}],\"histogram2d\":[{\"colorbar\":{\"outlinewidth\":0,\"ticks\":\"\"},\"colorscale\":[[0.0,\"#0d0887\"],[0.1111111111111111,\"#46039f\"],[0.2222222222222222,\"#7201a8\"],[0.3333333333333333,\"#9c179e\"],[0.4444444444444444,\"#bd3786\"],[0.5555555555555556,\"#d8576b\"],[0.6666666666666666,\"#ed7953\"],[0.7777777777777778,\"#fb9f3a\"],[0.8888888888888888,\"#fdca26\"],[1.0,\"#f0f921\"]],\"type\":\"histogram2d\"}],\"histogram\":[{\"marker\":{\"pattern\":{\"fillmode\":\"overlay\",\"size\":10,\"solidity\":0.2}},\"type\":\"histogram\"}],\"mesh3d\":[{\"colorbar\":{\"outlinewidth\":0,\"ticks\":\"\"},\"type\":\"mesh3d\"}],\"parcoords\":[{\"line\":{\"colorbar\":{\"outlinewidth\":0,\"ticks\":\"\"}},\"type\":\"parcoords\"}],\"pie\":[{\"automargin\":true,\"type\":\"pie\"}],\"scatter3d\":[{\"line\":{\"colorbar\":{\"outlinewidth\":0,\"ticks\":\"\"}},\"marker\":{\"colorbar\":{\"outlinewidth\":0,\"ticks\":\"\"}},\"type\":\"scatter3d\"}],\"scattercarpet\":[{\"marker\":{\"colorbar\":{\"outlinewidth\":0,\"ticks\":\"\"}},\"type\":\"scattercarpet\"}],\"scattergeo\":[{\"marker\":{\"colorbar\":{\"outlinewidth\":0,\"ticks\":\"\"}},\"type\":\"scattergeo\"}],\"scattergl\":[{\"marker\":{\"line\":{\"color\":\"#283442\"}},\"type\":\"scattergl\"}],\"scattermapbox\":[{\"marker\":{\"colorbar\":{\"outlinewidth\":0,\"ticks\":\"\"}},\"type\":\"scattermapbox\"}],\"scatterpolargl\":[{\"marker\":{\"colorbar\":{\"outlinewidth\":0,\"ticks\":\"\"}},\"type\":\"scatterpolargl\"}],\"scatterpolar\":[{\"marker\":{\"colorbar\":{\"outlinewidth\":0,\"ticks\":\"\"}},\"type\":\"scatterpolar\"}],\"scatter\":[{\"marker\":{\"line\":{\"color\":\"#283442\"}},\"type\":\"scatter\"}],\"scatterternary\":[{\"marker\":{\"colorbar\":{\"outlinewidth\":0,\"ticks\":\"\"}},\"type\":\"scatterternary\"}],\"surface\":[{\"colorbar\":{\"outlinewidth\":0,\"ticks\":\"\"},\"colorscale\":[[0.0,\"#0d0887\"],[0.1111111111111111,\"#46039f\"],[0.2222222222222222,\"#7201a8\"],[0.3333333333333333,\"#9c179e\"],[0.4444444444444444,\"#bd3786\"],[0.5555555555555556,\"#d8576b\"],[0.6666666666666666,\"#ed7953\"],[0.7777777777777778,\"#fb9f3a\"],[0.8888888888888888,\"#fdca26\"],[1.0,\"#f0f921\"]],\"type\":\"surface\"}],\"table\":[{\"cells\":{\"fill\":{\"color\":\"#506784\"},\"line\":{\"color\":\"rgb(17,17,17)\"}},\"header\":{\"fill\":{\"color\":\"#2a3f5f\"},\"line\":{\"color\":\"rgb(17,17,17)\"}},\"type\":\"table\"}]},\"layout\":{\"annotationdefaults\":{\"arrowcolor\":\"#f2f5fa\",\"arrowhead\":0,\"arrowwidth\":1},\"autotypenumbers\":\"strict\",\"coloraxis\":{\"colorbar\":{\"outlinewidth\":0,\"ticks\":\"\"}},\"colorscale\":{\"diverging\":[[0,\"#8e0152\"],[0.1,\"#c51b7d\"],[0.2,\"#de77ae\"],[0.3,\"#f1b6da\"],[0.4,\"#fde0ef\"],[0.5,\"#f7f7f7\"],[0.6,\"#e6f5d0\"],[0.7,\"#b8e186\"],[0.8,\"#7fbc41\"],[0.9,\"#4d9221\"],[1,\"#276419\"]],\"sequential\":[[0.0,\"#0d0887\"],[0.1111111111111111,\"#46039f\"],[0.2222222222222222,\"#7201a8\"],[0.3333333333333333,\"#9c179e\"],[0.4444444444444444,\"#bd3786\"],[0.5555555555555556,\"#d8576b\"],[0.6666666666666666,\"#ed7953\"],[0.7777777777777778,\"#fb9f3a\"],[0.8888888888888888,\"#fdca26\"],[1.0,\"#f0f921\"]],\"sequentialminus\":[[0.0,\"#0d0887\"],[0.1111111111111111,\"#46039f\"],[0.2222222222222222,\"#7201a8\"],[0.3333333333333333,\"#9c179e\"],[0.4444444444444444,\"#bd3786\"],[0.5555555555555556,\"#d8576b\"],[0.6666666666666666,\"#ed7953\"],[0.7777777777777778,\"#fb9f3a\"],[0.8888888888888888,\"#fdca26\"],[1.0,\"#f0f921\"]]},\"colorway\":[\"#636efa\",\"#EF553B\",\"#00cc96\",\"#ab63fa\",\"#FFA15A\",\"#19d3f3\",\"#FF6692\",\"#B6E880\",\"#FF97FF\",\"#FECB52\"],\"font\":{\"color\":\"#f2f5fa\"},\"geo\":{\"bgcolor\":\"rgb(17,17,17)\",\"lakecolor\":\"rgb(17,17,17)\",\"landcolor\":\"rgb(17,17,17)\",\"showlakes\":true,\"showland\":true,\"subunitcolor\":\"#506784\"},\"hoverlabel\":{\"align\":\"left\"},\"hovermode\":\"closest\",\"mapbox\":{\"style\":\"dark\"},\"paper_bgcolor\":\"rgb(17,17,17)\",\"plot_bgcolor\":\"rgb(17,17,17)\",\"polar\":{\"angularaxis\":{\"gridcolor\":\"#506784\",\"linecolor\":\"#506784\",\"ticks\":\"\"},\"bgcolor\":\"rgb(17,17,17)\",\"radialaxis\":{\"gridcolor\":\"#506784\",\"linecolor\":\"#506784\",\"ticks\":\"\"}},\"scene\":{\"xaxis\":{\"backgroundcolor\":\"rgb(17,17,17)\",\"gridcolor\":\"#506784\",\"gridwidth\":2,\"linecolor\":\"#506784\",\"showbackground\":true,\"ticks\":\"\",\"zerolinecolor\":\"#C8D4E3\"},\"yaxis\":{\"backgroundcolor\":\"rgb(17,17,17)\",\"gridcolor\":\"#506784\",\"gridwidth\":2,\"linecolor\":\"#506784\",\"showbackground\":true,\"ticks\":\"\",\"zerolinecolor\":\"#C8D4E3\"},\"zaxis\":{\"backgroundcolor\":\"rgb(17,17,17)\",\"gridcolor\":\"#506784\",\"gridwidth\":2,\"linecolor\":\"#506784\",\"showbackground\":true,\"ticks\":\"\",\"zerolinecolor\":\"#C8D4E3\"}},\"shapedefaults\":{\"line\":{\"color\":\"#f2f5fa\"}},\"sliderdefaults\":{\"bgcolor\":\"#C8D4E3\",\"bordercolor\":\"rgb(17,17,17)\",\"borderwidth\":1,\"tickwidth\":0},\"ternary\":{\"aaxis\":{\"gridcolor\":\"#506784\",\"linecolor\":\"#506784\",\"ticks\":\"\"},\"baxis\":{\"gridcolor\":\"#506784\",\"linecolor\":\"#506784\",\"ticks\":\"\"},\"bgcolor\":\"rgb(17,17,17)\",\"caxis\":{\"gridcolor\":\"#506784\",\"linecolor\":\"#506784\",\"ticks\":\"\"}},\"title\":{\"x\":0.05},\"updatemenudefaults\":{\"bgcolor\":\"#506784\",\"borderwidth\":0},\"xaxis\":{\"automargin\":true,\"gridcolor\":\"#283442\",\"linecolor\":\"#506784\",\"ticks\":\"\",\"title\":{\"standoff\":15},\"zerolinecolor\":\"#283442\",\"zerolinewidth\":2},\"yaxis\":{\"automargin\":true,\"gridcolor\":\"#283442\",\"linecolor\":\"#506784\",\"ticks\":\"\",\"title\":{\"standoff\":15},\"zerolinecolor\":\"#283442\",\"zerolinewidth\":2}}},\"scene\":{\"yaxis\":{\"title\":{\"text\":\"Tecnología (Index)\"},\"tickmode\":\"array\",\"tickvals\":[0,1,2,3,4],\"ticktext\":[\"Machine Learning\",\"Deep Learning\",\"Natural Language Processing\",\"Computer Vision\",\"Reinforcement Learning\"]},\"xaxis\":{\"title\":{\"text\":\"Año\"}},\"zaxis\":{\"title\":{\"text\":\"Popularidad (%)\"}}},\"margin\":{\"l\":0,\"r\":0,\"b\":0,\"t\":50},\"title\":{\"text\":\"Evolución de la Inteligencia Artificial hasta 2025\"}},                        {\"responsive\": true}                    ).then(function(){\n",
              "                            \n",
              "var gd = document.getElementById('2b4e2e91-1ee6-43ca-a4a2-f4703650e158');\n",
              "var x = new MutationObserver(function (mutations, observer) {{\n",
              "        var display = window.getComputedStyle(gd).display;\n",
              "        if (!display || display === 'none') {{\n",
              "            console.log([gd, 'removed!']);\n",
              "            Plotly.purge(gd);\n",
              "            observer.disconnect();\n",
              "        }}\n",
              "}});\n",
              "\n",
              "// Listen for the removal of the full notebook cells\n",
              "var notebookContainer = gd.closest('#notebook-container');\n",
              "if (notebookContainer) {{\n",
              "    x.observe(notebookContainer, {childList: true});\n",
              "}}\n",
              "\n",
              "// Listen for the clearing of the current output cell\n",
              "var outputEl = gd.closest('.output');\n",
              "if (outputEl) {{\n",
              "    x.observe(outputEl, {childList: true});\n",
              "}}\n",
              "\n",
              "                        })                };                            </script>        </div>\n",
              "</body>\n",
              "</html>"
            ]
          },
          "metadata": {}
        }
      ]
    },
    {
      "cell_type": "code",
      "source": [
        "ranking_2025 = df[df['Year'] == 2025].sort_values(by='Popularity', ascending=False)\n",
        "ranking_2025.reset_index(drop=True, inplace=True)\n",
        "ranking_2025['Rank'] = ranking_2025.index + 1\n",
        "print(\"\\n Ranking de tecnologías de IA más utilizadas en 2025:\\n\")\n",
        "print(ranking_2025[['Rank', 'Technology', 'Popularity']])"
      ],
      "metadata": {
        "colab": {
          "base_uri": "https://localhost:8080/"
        },
        "id": "UQwOZeYjfNun",
        "outputId": "16e90e5a-a42d-471d-ad66-8ae99414749a"
      },
      "execution_count": null,
      "outputs": [
        {
          "output_type": "stream",
          "name": "stdout",
          "text": [
            "\n",
            " Ranking de tecnologías de IA más utilizadas en 2025:\n",
            "\n",
            "   Rank                   Technology  Popularity\n",
            "0     1       Reinforcement Learning        60.0\n",
            "1     2              Computer Vision        57.8\n",
            "2     3  Natural Language Processing        55.6\n",
            "3     4                Deep Learning        53.4\n",
            "4     5             Machine Learning        51.2\n"
          ]
        }
      ]
    }
  ]
}