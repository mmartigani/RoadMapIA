{
  "nbformat": 4,
  "nbformat_minor": 0,
  "metadata": {
    "colab": {
      "provenance": [],
      "authorship_tag": "ABX9TyPey0JXjkHE2IOgGLnETU5E",
      "include_colab_link": true
    },
    "kernelspec": {
      "name": "python3",
      "display_name": "Python 3"
    },
    "language_info": {
      "name": "python"
    }
  },
  "cells": [
    {
      "cell_type": "markdown",
      "metadata": {
        "id": "view-in-github",
        "colab_type": "text"
      },
      "source": [
        "<a href=\"https://colab.research.google.com/github/mmartigani/RoadMapIA/blob/main/Detector_url.ipynb\" target=\"_parent\"><img src=\"https://colab.research.google.com/assets/colab-badge.svg\" alt=\"Open In Colab\"/></a>"
      ]
    },
    {
      "cell_type": "code",
      "execution_count": 2,
      "metadata": {
        "colab": {
          "base_uri": "https://localhost:8080/"
        },
        "id": "MSr7Ddu5B-gW",
        "outputId": "1a05c77d-7664-4f10-d6c3-3b63bec90a3e"
      },
      "outputs": [
        {
          "output_type": "stream",
          "name": "stdout",
          "text": [
            " Introduce la URL a analizar: https://huggingface.co/\n",
            "\n",
            " Resultado del análisis: URL BENIGNA\n"
          ]
        }
      ],
      "source": [
        "import re\n",
        "from urllib.parse import urlparse\n",
        "\n",
        "def ip_url(url):\n",
        "\n",
        "    return bool(re.search(r'\\d+\\.\\d+\\.\\d+\\.\\d+', url))\n",
        "\n",
        "def caracter(url, char):\n",
        "    return url.count(char)\n",
        "\n",
        "def https(url):\n",
        "    return url.startswith(\"https\")\n",
        "\n",
        "def url_larga(url):\n",
        "    return len(url) > 75\n",
        "\n",
        "def sospechosa(url):\n",
        "    palabras_sospechosas = ['login', 'update', 'secure', 'bank', 'confirm', 'account', 'free', 'bonus']\n",
        "    return any(palabra in url.lower() for palabra in palabras_sospechosas)\n",
        "\n",
        "def evaluar_url(url):\n",
        "    score = 0\n",
        "\n",
        "    if ip_url(url):\n",
        "        score += 2\n",
        "    if caracter(url, '@') > 0:\n",
        "        score += 2\n",
        "    if caracter(url, '-') > 3:\n",
        "        score += 1\n",
        "    if not https(url):\n",
        "        score += 1\n",
        "    if url_larga(url):\n",
        "        score += 1\n",
        "    if sospechosa(url):\n",
        "        score += 2\n",
        "\n",
        "    if score >= 5:\n",
        "        return \"URL MALICIOSA\"\n",
        "    elif score >= 3:\n",
        "        return \"URL POTENCIALMENTE MALICIOSA\"\n",
        "    else:\n",
        "        return \"URL BENIGNA\"\n",
        "\n",
        "\n",
        "if __name__ == \"__main__\":\n",
        "    url = input(\" Introduce la URL a analizar: \").strip()\n",
        "    resultado = evaluar_url(url)\n",
        "    print(f\"\\n Resultado del análisis: {resultado}\")"
      ]
    }
  ]
}
