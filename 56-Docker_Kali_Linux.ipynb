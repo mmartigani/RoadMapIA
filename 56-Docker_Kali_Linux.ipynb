{
  "nbformat": 4,
  "nbformat_minor": 0,
  "metadata": {
    "colab": {
      "provenance": [],
      "authorship_tag": "ABX9TyPYt0WoR/Pvsw2hSScOix5o",
      "include_colab_link": true
    },
    "kernelspec": {
      "name": "python3",
      "display_name": "Python 3"
    },
    "language_info": {
      "name": "python"
    }
  },
  "cells": [
    {
      "cell_type": "markdown",
      "metadata": {
        "id": "view-in-github",
        "colab_type": "text"
      },
      "source": [
        "<a href=\"https://colab.research.google.com/github/mmartigani/RoadMapIA/blob/main/Docker_Kali_Linux.ipynb\" target=\"_parent\"><img src=\"https://colab.research.google.com/assets/colab-badge.svg\" alt=\"Open In Colab\"/></a>"
      ]
    },
    {
      "cell_type": "code",
      "execution_count": null,
      "metadata": {
        "id": "cYtXzWVA-RKP"
      },
      "outputs": [],
      "source": [
        "sudo apt update\n",
        "sudo apt install -y docker.io\n",
        "wget https://http.kali.org/kali/pool/main/k/kali-archive-keyring/kali-archive-keyring_2025.1_all.deb\n",
        "sudo dpkg -i kali-archive-keyring_2025.1_all.deb\n",
        "rm kali-archive-keyring_2025.1_all.deb\n",
        "sudo apt-get update -y\n",
        "sudo apt install -y docker.io\n",
        "sudo systemctl enable docker --now\n",
        "echo \"deb [arch=amd64 signed-by=/etc/apt/keyrings/docker.gpg] https://download.docker.com/linux/debian bookworm stable\" | \\\n",
        "  sudo tee /etc/apt/sources.list.d/docker.list\n",
        "curl -fsSL https://download.docker.com/linux/debian/gpg |\n",
        "  sudo gpg --dearmor -o /etc/apt/keyrings/docker.gpg\n",
        "sudo apt update\n",
        "sudo apt install -y docker-ce docker-ce-cli containerd.io\n",
        "sudo systemctl enable docker --now\n",
        "sudo docker run hello-world\n",
        "sudo docker -v\n",
        "sudo docker compose version\n",
        "sudo groupadd docker\n",
        "sudo usermod -aG docker $USER\n",
        "sudo nano /etc/docker/daemon.json\n",
        "{\n",
        "  \"log-driver\":\"json-file\",\n",
        "  \"log-opts\": {\n",
        "    \"max-size\":\"10m\",\n",
        "    \"max-file\":\"3\"\n",
        "  }\n",
        "}\n",
        "sudo apt install net-tools\n",
        "sudo apt install telnet\n",
        "docker ps -a\n",
        "docker run -d -p 80:80 docker/getting-started\n",
        "sudo lsof -i -P -n | grep 80"
      ]
    }
  ]
}
