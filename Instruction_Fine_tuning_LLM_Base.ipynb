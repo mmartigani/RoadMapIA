{
  "nbformat": 4,
  "nbformat_minor": 0,
  "metadata": {
    "colab": {
      "provenance": [],
      "gpuType": "T4",
      "include_colab_link": true
    },
    "kernelspec": {
      "name": "python3",
      "display_name": "Python 3"
    },
    "language_info": {
      "name": "python"
    },
    "accelerator": "GPU",
    "widgets": {
      "application/vnd.jupyter.widget-state+json": {
        "45ba0148900748e6a00a3e031141c4b2": {
          "model_module": "@jupyter-widgets/controls",
          "model_name": "HBoxModel",
          "model_module_version": "1.5.0",
          "state": {
            "_dom_classes": [],
            "_model_module": "@jupyter-widgets/controls",
            "_model_module_version": "1.5.0",
            "_model_name": "HBoxModel",
            "_view_count": null,
            "_view_module": "@jupyter-widgets/controls",
            "_view_module_version": "1.5.0",
            "_view_name": "HBoxView",
            "box_style": "",
            "children": [
              "IPY_MODEL_d12cf0a8465446709833a7d38283ff52",
              "IPY_MODEL_517207feda494f4f832dd10a02f4af36",
              "IPY_MODEL_603b5f8bc19f4aaab50af448065799e2"
            ],
            "layout": "IPY_MODEL_996f1d7c78ac4feb9feae0ea01931dfe"
          }
        },
        "d12cf0a8465446709833a7d38283ff52": {
          "model_module": "@jupyter-widgets/controls",
          "model_name": "HTMLModel",
          "model_module_version": "1.5.0",
          "state": {
            "_dom_classes": [],
            "_model_module": "@jupyter-widgets/controls",
            "_model_module_version": "1.5.0",
            "_model_name": "HTMLModel",
            "_view_count": null,
            "_view_module": "@jupyter-widgets/controls",
            "_view_module_version": "1.5.0",
            "_view_name": "HTMLView",
            "description": "",
            "description_tooltip": null,
            "layout": "IPY_MODEL_031c9615b3e5447cac4ded40b45765eb",
            "placeholder": "​",
            "style": "IPY_MODEL_3b4ec151381945d4824c12bc43a94039",
            "value": "Map: 100%"
          }
        },
        "517207feda494f4f832dd10a02f4af36": {
          "model_module": "@jupyter-widgets/controls",
          "model_name": "FloatProgressModel",
          "model_module_version": "1.5.0",
          "state": {
            "_dom_classes": [],
            "_model_module": "@jupyter-widgets/controls",
            "_model_module_version": "1.5.0",
            "_model_name": "FloatProgressModel",
            "_view_count": null,
            "_view_module": "@jupyter-widgets/controls",
            "_view_module_version": "1.5.0",
            "_view_name": "ProgressView",
            "bar_style": "success",
            "description": "",
            "description_tooltip": null,
            "layout": "IPY_MODEL_cae55cb43e39450a93f19839ad7e1a7e",
            "max": 1500,
            "min": 0,
            "orientation": "horizontal",
            "style": "IPY_MODEL_65ab34d9068b4caf830d5b1fea4e7745",
            "value": 1500
          }
        },
        "603b5f8bc19f4aaab50af448065799e2": {
          "model_module": "@jupyter-widgets/controls",
          "model_name": "HTMLModel",
          "model_module_version": "1.5.0",
          "state": {
            "_dom_classes": [],
            "_model_module": "@jupyter-widgets/controls",
            "_model_module_version": "1.5.0",
            "_model_name": "HTMLModel",
            "_view_count": null,
            "_view_module": "@jupyter-widgets/controls",
            "_view_module_version": "1.5.0",
            "_view_name": "HTMLView",
            "description": "",
            "description_tooltip": null,
            "layout": "IPY_MODEL_6936b982dcfc454cac8c28cc0cb1dc91",
            "placeholder": "​",
            "style": "IPY_MODEL_be0310d0bfec46ec95ff06cfe89a4d3f",
            "value": " 1500/1500 [00:00&lt;00:00, 2645.89 examples/s]"
          }
        },
        "996f1d7c78ac4feb9feae0ea01931dfe": {
          "model_module": "@jupyter-widgets/base",
          "model_name": "LayoutModel",
          "model_module_version": "1.2.0",
          "state": {
            "_model_module": "@jupyter-widgets/base",
            "_model_module_version": "1.2.0",
            "_model_name": "LayoutModel",
            "_view_count": null,
            "_view_module": "@jupyter-widgets/base",
            "_view_module_version": "1.2.0",
            "_view_name": "LayoutView",
            "align_content": null,
            "align_items": null,
            "align_self": null,
            "border": null,
            "bottom": null,
            "display": null,
            "flex": null,
            "flex_flow": null,
            "grid_area": null,
            "grid_auto_columns": null,
            "grid_auto_flow": null,
            "grid_auto_rows": null,
            "grid_column": null,
            "grid_gap": null,
            "grid_row": null,
            "grid_template_areas": null,
            "grid_template_columns": null,
            "grid_template_rows": null,
            "height": null,
            "justify_content": null,
            "justify_items": null,
            "left": null,
            "margin": null,
            "max_height": null,
            "max_width": null,
            "min_height": null,
            "min_width": null,
            "object_fit": null,
            "object_position": null,
            "order": null,
            "overflow": null,
            "overflow_x": null,
            "overflow_y": null,
            "padding": null,
            "right": null,
            "top": null,
            "visibility": null,
            "width": null
          }
        },
        "031c9615b3e5447cac4ded40b45765eb": {
          "model_module": "@jupyter-widgets/base",
          "model_name": "LayoutModel",
          "model_module_version": "1.2.0",
          "state": {
            "_model_module": "@jupyter-widgets/base",
            "_model_module_version": "1.2.0",
            "_model_name": "LayoutModel",
            "_view_count": null,
            "_view_module": "@jupyter-widgets/base",
            "_view_module_version": "1.2.0",
            "_view_name": "LayoutView",
            "align_content": null,
            "align_items": null,
            "align_self": null,
            "border": null,
            "bottom": null,
            "display": null,
            "flex": null,
            "flex_flow": null,
            "grid_area": null,
            "grid_auto_columns": null,
            "grid_auto_flow": null,
            "grid_auto_rows": null,
            "grid_column": null,
            "grid_gap": null,
            "grid_row": null,
            "grid_template_areas": null,
            "grid_template_columns": null,
            "grid_template_rows": null,
            "height": null,
            "justify_content": null,
            "justify_items": null,
            "left": null,
            "margin": null,
            "max_height": null,
            "max_width": null,
            "min_height": null,
            "min_width": null,
            "object_fit": null,
            "object_position": null,
            "order": null,
            "overflow": null,
            "overflow_x": null,
            "overflow_y": null,
            "padding": null,
            "right": null,
            "top": null,
            "visibility": null,
            "width": null
          }
        },
        "3b4ec151381945d4824c12bc43a94039": {
          "model_module": "@jupyter-widgets/controls",
          "model_name": "DescriptionStyleModel",
          "model_module_version": "1.5.0",
          "state": {
            "_model_module": "@jupyter-widgets/controls",
            "_model_module_version": "1.5.0",
            "_model_name": "DescriptionStyleModel",
            "_view_count": null,
            "_view_module": "@jupyter-widgets/base",
            "_view_module_version": "1.2.0",
            "_view_name": "StyleView",
            "description_width": ""
          }
        },
        "cae55cb43e39450a93f19839ad7e1a7e": {
          "model_module": "@jupyter-widgets/base",
          "model_name": "LayoutModel",
          "model_module_version": "1.2.0",
          "state": {
            "_model_module": "@jupyter-widgets/base",
            "_model_module_version": "1.2.0",
            "_model_name": "LayoutModel",
            "_view_count": null,
            "_view_module": "@jupyter-widgets/base",
            "_view_module_version": "1.2.0",
            "_view_name": "LayoutView",
            "align_content": null,
            "align_items": null,
            "align_self": null,
            "border": null,
            "bottom": null,
            "display": null,
            "flex": null,
            "flex_flow": null,
            "grid_area": null,
            "grid_auto_columns": null,
            "grid_auto_flow": null,
            "grid_auto_rows": null,
            "grid_column": null,
            "grid_gap": null,
            "grid_row": null,
            "grid_template_areas": null,
            "grid_template_columns": null,
            "grid_template_rows": null,
            "height": null,
            "justify_content": null,
            "justify_items": null,
            "left": null,
            "margin": null,
            "max_height": null,
            "max_width": null,
            "min_height": null,
            "min_width": null,
            "object_fit": null,
            "object_position": null,
            "order": null,
            "overflow": null,
            "overflow_x": null,
            "overflow_y": null,
            "padding": null,
            "right": null,
            "top": null,
            "visibility": null,
            "width": null
          }
        },
        "65ab34d9068b4caf830d5b1fea4e7745": {
          "model_module": "@jupyter-widgets/controls",
          "model_name": "ProgressStyleModel",
          "model_module_version": "1.5.0",
          "state": {
            "_model_module": "@jupyter-widgets/controls",
            "_model_module_version": "1.5.0",
            "_model_name": "ProgressStyleModel",
            "_view_count": null,
            "_view_module": "@jupyter-widgets/base",
            "_view_module_version": "1.2.0",
            "_view_name": "StyleView",
            "bar_color": null,
            "description_width": ""
          }
        },
        "6936b982dcfc454cac8c28cc0cb1dc91": {
          "model_module": "@jupyter-widgets/base",
          "model_name": "LayoutModel",
          "model_module_version": "1.2.0",
          "state": {
            "_model_module": "@jupyter-widgets/base",
            "_model_module_version": "1.2.0",
            "_model_name": "LayoutModel",
            "_view_count": null,
            "_view_module": "@jupyter-widgets/base",
            "_view_module_version": "1.2.0",
            "_view_name": "LayoutView",
            "align_content": null,
            "align_items": null,
            "align_self": null,
            "border": null,
            "bottom": null,
            "display": null,
            "flex": null,
            "flex_flow": null,
            "grid_area": null,
            "grid_auto_columns": null,
            "grid_auto_flow": null,
            "grid_auto_rows": null,
            "grid_column": null,
            "grid_gap": null,
            "grid_row": null,
            "grid_template_areas": null,
            "grid_template_columns": null,
            "grid_template_rows": null,
            "height": null,
            "justify_content": null,
            "justify_items": null,
            "left": null,
            "margin": null,
            "max_height": null,
            "max_width": null,
            "min_height": null,
            "min_width": null,
            "object_fit": null,
            "object_position": null,
            "order": null,
            "overflow": null,
            "overflow_x": null,
            "overflow_y": null,
            "padding": null,
            "right": null,
            "top": null,
            "visibility": null,
            "width": null
          }
        },
        "be0310d0bfec46ec95ff06cfe89a4d3f": {
          "model_module": "@jupyter-widgets/controls",
          "model_name": "DescriptionStyleModel",
          "model_module_version": "1.5.0",
          "state": {
            "_model_module": "@jupyter-widgets/controls",
            "_model_module_version": "1.5.0",
            "_model_name": "DescriptionStyleModel",
            "_view_count": null,
            "_view_module": "@jupyter-widgets/base",
            "_view_module_version": "1.2.0",
            "_view_name": "StyleView",
            "description_width": ""
          }
        },
        "fa961614c93e467f8f8b9302a552fa42": {
          "model_module": "@jupyter-widgets/controls",
          "model_name": "HBoxModel",
          "model_module_version": "1.5.0",
          "state": {
            "_dom_classes": [],
            "_model_module": "@jupyter-widgets/controls",
            "_model_module_version": "1.5.0",
            "_model_name": "HBoxModel",
            "_view_count": null,
            "_view_module": "@jupyter-widgets/controls",
            "_view_module_version": "1.5.0",
            "_view_name": "HBoxView",
            "box_style": "",
            "children": [
              "IPY_MODEL_86c80693bcb54e20ac9dda529cd50bf1",
              "IPY_MODEL_3f48d4ba33a844b583977db920c743b9",
              "IPY_MODEL_1ab319f2ec0040879bd131ce3de20f49"
            ],
            "layout": "IPY_MODEL_6bb6eb24fcbd4830880a82abd1d373e7"
          }
        },
        "86c80693bcb54e20ac9dda529cd50bf1": {
          "model_module": "@jupyter-widgets/controls",
          "model_name": "HTMLModel",
          "model_module_version": "1.5.0",
          "state": {
            "_dom_classes": [],
            "_model_module": "@jupyter-widgets/controls",
            "_model_module_version": "1.5.0",
            "_model_name": "HTMLModel",
            "_view_count": null,
            "_view_module": "@jupyter-widgets/controls",
            "_view_module_version": "1.5.0",
            "_view_name": "HTMLView",
            "description": "",
            "description_tooltip": null,
            "layout": "IPY_MODEL_0f3816952a6b460b9248cdc5e3e162f3",
            "placeholder": "​",
            "style": "IPY_MODEL_4570826452fe420da0c90417f1f76d47",
            "value": "Map: 100%"
          }
        },
        "3f48d4ba33a844b583977db920c743b9": {
          "model_module": "@jupyter-widgets/controls",
          "model_name": "FloatProgressModel",
          "model_module_version": "1.5.0",
          "state": {
            "_dom_classes": [],
            "_model_module": "@jupyter-widgets/controls",
            "_model_module_version": "1.5.0",
            "_model_name": "FloatProgressModel",
            "_view_count": null,
            "_view_module": "@jupyter-widgets/controls",
            "_view_module_version": "1.5.0",
            "_view_name": "ProgressView",
            "bar_style": "success",
            "description": "",
            "description_tooltip": null,
            "layout": "IPY_MODEL_c0b313a566344b67956e4467e025a4a0",
            "max": 500,
            "min": 0,
            "orientation": "horizontal",
            "style": "IPY_MODEL_7e24b93e76ac4d2981e3a535212032b7",
            "value": 500
          }
        },
        "1ab319f2ec0040879bd131ce3de20f49": {
          "model_module": "@jupyter-widgets/controls",
          "model_name": "HTMLModel",
          "model_module_version": "1.5.0",
          "state": {
            "_dom_classes": [],
            "_model_module": "@jupyter-widgets/controls",
            "_model_module_version": "1.5.0",
            "_model_name": "HTMLModel",
            "_view_count": null,
            "_view_module": "@jupyter-widgets/controls",
            "_view_module_version": "1.5.0",
            "_view_name": "HTMLView",
            "description": "",
            "description_tooltip": null,
            "layout": "IPY_MODEL_30bba8823f964498aff29604c1ba12bb",
            "placeholder": "​",
            "style": "IPY_MODEL_92adba5452b24fd9ba29c641e4e5e14d",
            "value": " 500/500 [00:00&lt;00:00, 4158.65 examples/s]"
          }
        },
        "6bb6eb24fcbd4830880a82abd1d373e7": {
          "model_module": "@jupyter-widgets/base",
          "model_name": "LayoutModel",
          "model_module_version": "1.2.0",
          "state": {
            "_model_module": "@jupyter-widgets/base",
            "_model_module_version": "1.2.0",
            "_model_name": "LayoutModel",
            "_view_count": null,
            "_view_module": "@jupyter-widgets/base",
            "_view_module_version": "1.2.0",
            "_view_name": "LayoutView",
            "align_content": null,
            "align_items": null,
            "align_self": null,
            "border": null,
            "bottom": null,
            "display": null,
            "flex": null,
            "flex_flow": null,
            "grid_area": null,
            "grid_auto_columns": null,
            "grid_auto_flow": null,
            "grid_auto_rows": null,
            "grid_column": null,
            "grid_gap": null,
            "grid_row": null,
            "grid_template_areas": null,
            "grid_template_columns": null,
            "grid_template_rows": null,
            "height": null,
            "justify_content": null,
            "justify_items": null,
            "left": null,
            "margin": null,
            "max_height": null,
            "max_width": null,
            "min_height": null,
            "min_width": null,
            "object_fit": null,
            "object_position": null,
            "order": null,
            "overflow": null,
            "overflow_x": null,
            "overflow_y": null,
            "padding": null,
            "right": null,
            "top": null,
            "visibility": null,
            "width": null
          }
        },
        "0f3816952a6b460b9248cdc5e3e162f3": {
          "model_module": "@jupyter-widgets/base",
          "model_name": "LayoutModel",
          "model_module_version": "1.2.0",
          "state": {
            "_model_module": "@jupyter-widgets/base",
            "_model_module_version": "1.2.0",
            "_model_name": "LayoutModel",
            "_view_count": null,
            "_view_module": "@jupyter-widgets/base",
            "_view_module_version": "1.2.0",
            "_view_name": "LayoutView",
            "align_content": null,
            "align_items": null,
            "align_self": null,
            "border": null,
            "bottom": null,
            "display": null,
            "flex": null,
            "flex_flow": null,
            "grid_area": null,
            "grid_auto_columns": null,
            "grid_auto_flow": null,
            "grid_auto_rows": null,
            "grid_column": null,
            "grid_gap": null,
            "grid_row": null,
            "grid_template_areas": null,
            "grid_template_columns": null,
            "grid_template_rows": null,
            "height": null,
            "justify_content": null,
            "justify_items": null,
            "left": null,
            "margin": null,
            "max_height": null,
            "max_width": null,
            "min_height": null,
            "min_width": null,
            "object_fit": null,
            "object_position": null,
            "order": null,
            "overflow": null,
            "overflow_x": null,
            "overflow_y": null,
            "padding": null,
            "right": null,
            "top": null,
            "visibility": null,
            "width": null
          }
        },
        "4570826452fe420da0c90417f1f76d47": {
          "model_module": "@jupyter-widgets/controls",
          "model_name": "DescriptionStyleModel",
          "model_module_version": "1.5.0",
          "state": {
            "_model_module": "@jupyter-widgets/controls",
            "_model_module_version": "1.5.0",
            "_model_name": "DescriptionStyleModel",
            "_view_count": null,
            "_view_module": "@jupyter-widgets/base",
            "_view_module_version": "1.2.0",
            "_view_name": "StyleView",
            "description_width": ""
          }
        },
        "c0b313a566344b67956e4467e025a4a0": {
          "model_module": "@jupyter-widgets/base",
          "model_name": "LayoutModel",
          "model_module_version": "1.2.0",
          "state": {
            "_model_module": "@jupyter-widgets/base",
            "_model_module_version": "1.2.0",
            "_model_name": "LayoutModel",
            "_view_count": null,
            "_view_module": "@jupyter-widgets/base",
            "_view_module_version": "1.2.0",
            "_view_name": "LayoutView",
            "align_content": null,
            "align_items": null,
            "align_self": null,
            "border": null,
            "bottom": null,
            "display": null,
            "flex": null,
            "flex_flow": null,
            "grid_area": null,
            "grid_auto_columns": null,
            "grid_auto_flow": null,
            "grid_auto_rows": null,
            "grid_column": null,
            "grid_gap": null,
            "grid_row": null,
            "grid_template_areas": null,
            "grid_template_columns": null,
            "grid_template_rows": null,
            "height": null,
            "justify_content": null,
            "justify_items": null,
            "left": null,
            "margin": null,
            "max_height": null,
            "max_width": null,
            "min_height": null,
            "min_width": null,
            "object_fit": null,
            "object_position": null,
            "order": null,
            "overflow": null,
            "overflow_x": null,
            "overflow_y": null,
            "padding": null,
            "right": null,
            "top": null,
            "visibility": null,
            "width": null
          }
        },
        "7e24b93e76ac4d2981e3a535212032b7": {
          "model_module": "@jupyter-widgets/controls",
          "model_name": "ProgressStyleModel",
          "model_module_version": "1.5.0",
          "state": {
            "_model_module": "@jupyter-widgets/controls",
            "_model_module_version": "1.5.0",
            "_model_name": "ProgressStyleModel",
            "_view_count": null,
            "_view_module": "@jupyter-widgets/base",
            "_view_module_version": "1.2.0",
            "_view_name": "StyleView",
            "bar_color": null,
            "description_width": ""
          }
        },
        "30bba8823f964498aff29604c1ba12bb": {
          "model_module": "@jupyter-widgets/base",
          "model_name": "LayoutModel",
          "model_module_version": "1.2.0",
          "state": {
            "_model_module": "@jupyter-widgets/base",
            "_model_module_version": "1.2.0",
            "_model_name": "LayoutModel",
            "_view_count": null,
            "_view_module": "@jupyter-widgets/base",
            "_view_module_version": "1.2.0",
            "_view_name": "LayoutView",
            "align_content": null,
            "align_items": null,
            "align_self": null,
            "border": null,
            "bottom": null,
            "display": null,
            "flex": null,
            "flex_flow": null,
            "grid_area": null,
            "grid_auto_columns": null,
            "grid_auto_flow": null,
            "grid_auto_rows": null,
            "grid_column": null,
            "grid_gap": null,
            "grid_row": null,
            "grid_template_areas": null,
            "grid_template_columns": null,
            "grid_template_rows": null,
            "height": null,
            "justify_content": null,
            "justify_items": null,
            "left": null,
            "margin": null,
            "max_height": null,
            "max_width": null,
            "min_height": null,
            "min_width": null,
            "object_fit": null,
            "object_position": null,
            "order": null,
            "overflow": null,
            "overflow_x": null,
            "overflow_y": null,
            "padding": null,
            "right": null,
            "top": null,
            "visibility": null,
            "width": null
          }
        },
        "92adba5452b24fd9ba29c641e4e5e14d": {
          "model_module": "@jupyter-widgets/controls",
          "model_name": "DescriptionStyleModel",
          "model_module_version": "1.5.0",
          "state": {
            "_model_module": "@jupyter-widgets/controls",
            "_model_module_version": "1.5.0",
            "_model_name": "DescriptionStyleModel",
            "_view_count": null,
            "_view_module": "@jupyter-widgets/base",
            "_view_module_version": "1.2.0",
            "_view_name": "StyleView",
            "description_width": ""
          }
        },
        "3e04e54be7fa4fb8b0aaeae75798e510": {
          "model_module": "@jupyter-widgets/controls",
          "model_name": "HBoxModel",
          "model_module_version": "1.5.0",
          "state": {
            "_dom_classes": [],
            "_model_module": "@jupyter-widgets/controls",
            "_model_module_version": "1.5.0",
            "_model_name": "HBoxModel",
            "_view_count": null,
            "_view_module": "@jupyter-widgets/controls",
            "_view_module_version": "1.5.0",
            "_view_name": "HBoxView",
            "box_style": "",
            "children": [
              "IPY_MODEL_1623265b30a141b2869149757e56a5ad",
              "IPY_MODEL_bb4b7d5c4afa44e0a6cd24325743c08a",
              "IPY_MODEL_cb6bed32d9b1469c8e0eca26e808d357"
            ],
            "layout": "IPY_MODEL_5813db71c32841dea9a9ed488b33a40f"
          }
        },
        "1623265b30a141b2869149757e56a5ad": {
          "model_module": "@jupyter-widgets/controls",
          "model_name": "HTMLModel",
          "model_module_version": "1.5.0",
          "state": {
            "_dom_classes": [],
            "_model_module": "@jupyter-widgets/controls",
            "_model_module_version": "1.5.0",
            "_model_name": "HTMLModel",
            "_view_count": null,
            "_view_module": "@jupyter-widgets/controls",
            "_view_module_version": "1.5.0",
            "_view_name": "HTMLView",
            "description": "",
            "description_tooltip": null,
            "layout": "IPY_MODEL_c3cc4ee2ed11413fb3d1597ed20c88a7",
            "placeholder": "​",
            "style": "IPY_MODEL_b19b52a46c1b40b992fe1d13ce35bad0",
            "value": "Map: 100%"
          }
        },
        "bb4b7d5c4afa44e0a6cd24325743c08a": {
          "model_module": "@jupyter-widgets/controls",
          "model_name": "FloatProgressModel",
          "model_module_version": "1.5.0",
          "state": {
            "_dom_classes": [],
            "_model_module": "@jupyter-widgets/controls",
            "_model_module_version": "1.5.0",
            "_model_name": "FloatProgressModel",
            "_view_count": null,
            "_view_module": "@jupyter-widgets/controls",
            "_view_module_version": "1.5.0",
            "_view_name": "ProgressView",
            "bar_style": "success",
            "description": "",
            "description_tooltip": null,
            "layout": "IPY_MODEL_62dcb3d5e27449d98fa1cdd84a365d04",
            "max": 200,
            "min": 0,
            "orientation": "horizontal",
            "style": "IPY_MODEL_34b1b1905eeb44dba4a14e70045cdbb3",
            "value": 200
          }
        },
        "cb6bed32d9b1469c8e0eca26e808d357": {
          "model_module": "@jupyter-widgets/controls",
          "model_name": "HTMLModel",
          "model_module_version": "1.5.0",
          "state": {
            "_dom_classes": [],
            "_model_module": "@jupyter-widgets/controls",
            "_model_module_version": "1.5.0",
            "_model_name": "HTMLModel",
            "_view_count": null,
            "_view_module": "@jupyter-widgets/controls",
            "_view_module_version": "1.5.0",
            "_view_name": "HTMLView",
            "description": "",
            "description_tooltip": null,
            "layout": "IPY_MODEL_d28bf30575ae47dda47657197c71555e",
            "placeholder": "​",
            "style": "IPY_MODEL_dc50238654ed475293808949fc9a1c6c",
            "value": " 200/200 [00:00&lt;00:00, 2983.52 examples/s]"
          }
        },
        "5813db71c32841dea9a9ed488b33a40f": {
          "model_module": "@jupyter-widgets/base",
          "model_name": "LayoutModel",
          "model_module_version": "1.2.0",
          "state": {
            "_model_module": "@jupyter-widgets/base",
            "_model_module_version": "1.2.0",
            "_model_name": "LayoutModel",
            "_view_count": null,
            "_view_module": "@jupyter-widgets/base",
            "_view_module_version": "1.2.0",
            "_view_name": "LayoutView",
            "align_content": null,
            "align_items": null,
            "align_self": null,
            "border": null,
            "bottom": null,
            "display": null,
            "flex": null,
            "flex_flow": null,
            "grid_area": null,
            "grid_auto_columns": null,
            "grid_auto_flow": null,
            "grid_auto_rows": null,
            "grid_column": null,
            "grid_gap": null,
            "grid_row": null,
            "grid_template_areas": null,
            "grid_template_columns": null,
            "grid_template_rows": null,
            "height": null,
            "justify_content": null,
            "justify_items": null,
            "left": null,
            "margin": null,
            "max_height": null,
            "max_width": null,
            "min_height": null,
            "min_width": null,
            "object_fit": null,
            "object_position": null,
            "order": null,
            "overflow": null,
            "overflow_x": null,
            "overflow_y": null,
            "padding": null,
            "right": null,
            "top": null,
            "visibility": null,
            "width": null
          }
        },
        "c3cc4ee2ed11413fb3d1597ed20c88a7": {
          "model_module": "@jupyter-widgets/base",
          "model_name": "LayoutModel",
          "model_module_version": "1.2.0",
          "state": {
            "_model_module": "@jupyter-widgets/base",
            "_model_module_version": "1.2.0",
            "_model_name": "LayoutModel",
            "_view_count": null,
            "_view_module": "@jupyter-widgets/base",
            "_view_module_version": "1.2.0",
            "_view_name": "LayoutView",
            "align_content": null,
            "align_items": null,
            "align_self": null,
            "border": null,
            "bottom": null,
            "display": null,
            "flex": null,
            "flex_flow": null,
            "grid_area": null,
            "grid_auto_columns": null,
            "grid_auto_flow": null,
            "grid_auto_rows": null,
            "grid_column": null,
            "grid_gap": null,
            "grid_row": null,
            "grid_template_areas": null,
            "grid_template_columns": null,
            "grid_template_rows": null,
            "height": null,
            "justify_content": null,
            "justify_items": null,
            "left": null,
            "margin": null,
            "max_height": null,
            "max_width": null,
            "min_height": null,
            "min_width": null,
            "object_fit": null,
            "object_position": null,
            "order": null,
            "overflow": null,
            "overflow_x": null,
            "overflow_y": null,
            "padding": null,
            "right": null,
            "top": null,
            "visibility": null,
            "width": null
          }
        },
        "b19b52a46c1b40b992fe1d13ce35bad0": {
          "model_module": "@jupyter-widgets/controls",
          "model_name": "DescriptionStyleModel",
          "model_module_version": "1.5.0",
          "state": {
            "_model_module": "@jupyter-widgets/controls",
            "_model_module_version": "1.5.0",
            "_model_name": "DescriptionStyleModel",
            "_view_count": null,
            "_view_module": "@jupyter-widgets/base",
            "_view_module_version": "1.2.0",
            "_view_name": "StyleView",
            "description_width": ""
          }
        },
        "62dcb3d5e27449d98fa1cdd84a365d04": {
          "model_module": "@jupyter-widgets/base",
          "model_name": "LayoutModel",
          "model_module_version": "1.2.0",
          "state": {
            "_model_module": "@jupyter-widgets/base",
            "_model_module_version": "1.2.0",
            "_model_name": "LayoutModel",
            "_view_count": null,
            "_view_module": "@jupyter-widgets/base",
            "_view_module_version": "1.2.0",
            "_view_name": "LayoutView",
            "align_content": null,
            "align_items": null,
            "align_self": null,
            "border": null,
            "bottom": null,
            "display": null,
            "flex": null,
            "flex_flow": null,
            "grid_area": null,
            "grid_auto_columns": null,
            "grid_auto_flow": null,
            "grid_auto_rows": null,
            "grid_column": null,
            "grid_gap": null,
            "grid_row": null,
            "grid_template_areas": null,
            "grid_template_columns": null,
            "grid_template_rows": null,
            "height": null,
            "justify_content": null,
            "justify_items": null,
            "left": null,
            "margin": null,
            "max_height": null,
            "max_width": null,
            "min_height": null,
            "min_width": null,
            "object_fit": null,
            "object_position": null,
            "order": null,
            "overflow": null,
            "overflow_x": null,
            "overflow_y": null,
            "padding": null,
            "right": null,
            "top": null,
            "visibility": null,
            "width": null
          }
        },
        "34b1b1905eeb44dba4a14e70045cdbb3": {
          "model_module": "@jupyter-widgets/controls",
          "model_name": "ProgressStyleModel",
          "model_module_version": "1.5.0",
          "state": {
            "_model_module": "@jupyter-widgets/controls",
            "_model_module_version": "1.5.0",
            "_model_name": "ProgressStyleModel",
            "_view_count": null,
            "_view_module": "@jupyter-widgets/base",
            "_view_module_version": "1.2.0",
            "_view_name": "StyleView",
            "bar_color": null,
            "description_width": ""
          }
        },
        "d28bf30575ae47dda47657197c71555e": {
          "model_module": "@jupyter-widgets/base",
          "model_name": "LayoutModel",
          "model_module_version": "1.2.0",
          "state": {
            "_model_module": "@jupyter-widgets/base",
            "_model_module_version": "1.2.0",
            "_model_name": "LayoutModel",
            "_view_count": null,
            "_view_module": "@jupyter-widgets/base",
            "_view_module_version": "1.2.0",
            "_view_name": "LayoutView",
            "align_content": null,
            "align_items": null,
            "align_self": null,
            "border": null,
            "bottom": null,
            "display": null,
            "flex": null,
            "flex_flow": null,
            "grid_area": null,
            "grid_auto_columns": null,
            "grid_auto_flow": null,
            "grid_auto_rows": null,
            "grid_column": null,
            "grid_gap": null,
            "grid_row": null,
            "grid_template_areas": null,
            "grid_template_columns": null,
            "grid_template_rows": null,
            "height": null,
            "justify_content": null,
            "justify_items": null,
            "left": null,
            "margin": null,
            "max_height": null,
            "max_width": null,
            "min_height": null,
            "min_width": null,
            "object_fit": null,
            "object_position": null,
            "order": null,
            "overflow": null,
            "overflow_x": null,
            "overflow_y": null,
            "padding": null,
            "right": null,
            "top": null,
            "visibility": null,
            "width": null
          }
        },
        "dc50238654ed475293808949fc9a1c6c": {
          "model_module": "@jupyter-widgets/controls",
          "model_name": "DescriptionStyleModel",
          "model_module_version": "1.5.0",
          "state": {
            "_model_module": "@jupyter-widgets/controls",
            "_model_module_version": "1.5.0",
            "_model_name": "DescriptionStyleModel",
            "_view_count": null,
            "_view_module": "@jupyter-widgets/base",
            "_view_module_version": "1.2.0",
            "_view_name": "StyleView",
            "description_width": ""
          }
        }
      }
    }
  },
  "cells": [
    {
      "cell_type": "markdown",
      "metadata": {
        "id": "view-in-github",
        "colab_type": "text"
      },
      "source": [
        "<a href=\"https://colab.research.google.com/github/mmartigani/RoadMapIA/blob/main/Instruction_Fine_tuning_LLM_Base.ipynb\" target=\"_parent\"><img src=\"https://colab.research.google.com/assets/colab-badge.svg\" alt=\"Open In Colab\"/></a>"
      ]
    },
    {
      "cell_type": "markdown",
      "metadata": {
        "id": "3cb7b12c"
      },
      "source": [
        "# Instruction Fine-tuning sobre un LLM Base"
      ]
    },
    {
      "cell_type": "markdown",
      "metadata": {
        "id": "42e9ea52"
      },
      "source": [
        "<div style=\"background-color:#D9EEFF;color:black;padding:2%;\">\n",
        "<h2>Enunciado del caso práctico</h2>\n",
        "\n",
        "En este caso práctico, se propone al alumno la realización de instruction fine-tuning sobre el LLM [Flan-T5-small](https://huggingface.co/google/flan-t5-small) con el objetivo de que sea capaz de resumir artículos de periódico en el idioma Español.\n",
        "\n",
        "</div>"
      ]
    },
    {
      "cell_type": "markdown",
      "metadata": {
        "id": "831d29b1"
      },
      "source": [
        "# Resolución del caso práctico"
      ]
    },
    {
      "cell_type": "markdown",
      "source": [
        "## 0. Instalación de librerías externas"
      ],
      "metadata": {
        "id": "-V8dgd_BUeOK"
      }
    },
    {
      "cell_type": "code",
      "source": [
        "!pip install transformers\n",
        "!pip install sentencepiece\n",
        "!pip install accelerate\n",
        "!pip install datasets\n",
        "!pip install evaluate\n",
        "!pip install rouge_score"
      ],
      "metadata": {
        "id": "ScQcgtCkUhD7"
      },
      "execution_count": null,
      "outputs": []
    },
    {
      "cell_type": "markdown",
      "source": [
        "## 1. Comportamiento de [Flan-T5-small](https://huggingface.co/google/flan-t5-small) sin Fine-tuning"
      ],
      "metadata": {
        "id": "kjNFCLMHWCXs"
      }
    },
    {
      "cell_type": "markdown",
      "source": [
        "### Lectura del modelo y tokenizador"
      ],
      "metadata": {
        "id": "Br7gt6CJwfgy"
      }
    },
    {
      "cell_type": "code",
      "source": [
        "from transformers import T5Tokenizer, T5ForConditionalGeneration\n",
        "\n",
        "# Importamos el tokenizador\n",
        "tokenizer_FT5 = T5Tokenizer.from_pretrained(\"google/flan-t5-small\")\n",
        "\n",
        "# Importamos el modelo pre-entrenado\n",
        "model_FT5 = T5ForConditionalGeneration.from_pretrained(\"google/flan-t5-small\", device_map=\"auto\")"
      ],
      "metadata": {
        "id": "WdK3d284lxFw"
      },
      "execution_count": null,
      "outputs": []
    },
    {
      "cell_type": "markdown",
      "source": [
        "### Generación de texto"
      ],
      "metadata": {
        "id": "652jxcqawjQk"
      }
    },
    {
      "cell_type": "code",
      "source": [
        "text = \"\"\"Astrónomos detectaron una misteriosa ráfaga de ondas de radio que tardó \\\n",
        "8.000 millones de años en llegar a la Tierra. La ráfaga rápida de radio es una de \\\n",
        "las más distantes y energéticas jamás observadas. Las ráfagas rápidas de radio \\\n",
        "(FRB, por sus siglas en inglés) son intensos estallidos de ondas de radio de \\\n",
        "milisegundos de duración cuyo origen se desconoce. La primera FRB se descubrió \\\n",
        "en 2007 y, desde entonces, se han detectado cientos de estos rápidos destellos \\\n",
        "cósmicos procedentes de puntos distantes de todo el universo.\"\"\""
      ],
      "metadata": {
        "id": "HlEsUaDXxwNO"
      },
      "execution_count": null,
      "outputs": []
    },
    {
      "cell_type": "code",
      "source": [
        "text = \"\"\"\"La Revolución Industrial, que tuvo lugar principalmente en el siglo XIX, \\\n",
        "fue un período de grandes cambios tecnológicos, culturales y socioeconómicos que \\\n",
        "transformó a las sociedades agrarias en sociedades industriales. Durante este tiempo, \\\n",
        "hubo un cambio masivo de mano de obra de las granjas a las fábricas. Esto se debió a \\\n",
        "la invención de nuevas máquinas que podían realizar tareas más rápido y eficientemente \\\n",
        "que los humanos o los animales. Esta transición llevó a un aumento en la producción de \\\n",
        "bienes, pero también tuvo consecuencias negativas, como la explotación \\laboral y la \\\n",
        "contaminación ambiental.\"\"\""
      ],
      "metadata": {
        "id": "hG5L0wZy8nDG"
      },
      "execution_count": null,
      "outputs": []
    },
    {
      "cell_type": "code",
      "source": [
        "text = \"\"\"\"El telescopio Hubble, lanzado al espacio en 1990, ha proporcionado imágenes \\\n",
        "impresionantes del universo y ha ayudado a los científicos a comprender mejor la cosmología.\"\"\""
      ],
      "metadata": {
        "id": "JZtg_TfS-g1_"
      },
      "execution_count": null,
      "outputs": []
    },
    {
      "cell_type": "code",
      "source": [
        "prompt_template = f\"Resume el siguiente articulo:\\n\\n{text}\"\n",
        "\n",
        "# Tokenizamos el prompt\n",
        "prompt_tokens = tokenizer_FT5(prompt_template, return_tensors=\"pt\").input_ids.to(\"cuda\")\n",
        "\n",
        "# Generamos los siguientes tokens\n",
        "outputs = model_FT5.generate(prompt_tokens, max_length=200)\n",
        "\n",
        "# Transformamos los tokens generados en texto\n",
        "print(tokenizer_FT5.decode(outputs[0]))"
      ],
      "metadata": {
        "id": "9ErX-b24n4Ll"
      },
      "execution_count": null,
      "outputs": []
    },
    {
      "cell_type": "markdown",
      "source": [
        "## 2. Selección y preparación del conjunto de datos"
      ],
      "metadata": {
        "id": "01t6CnUB_Lns"
      }
    },
    {
      "cell_type": "markdown",
      "source": [
        "El conjunto de datos que vamos a utilizar para la realización del fine-tuning se corresponde con MLSUM.\n",
        "\n",
        "MLSUM es el primer conjunto de datos de resumen multilingüe a gran escala. Obtenido de periódicos en línea, contiene más de 1.5 millones de pares de artículo/resumen en cinco idiomas diferentes: francés, alemán, español, ruso y turco.\n",
        "\n",
        "La estructura de los datos es la siguiente:\n",
        "\n",
        "```\n",
        "{\n",
        "    \"date\": \"01/01/2001\",\n",
        "    \"summary\": \"A text\",\n",
        "    \"text\": \"This is a text\",\n",
        "    \"title\": \"A sample\",\n",
        "    \"topic\": \"football\",\n",
        "    \"url\": \"https://www.google.com\"\n",
        "}\n",
        "```\n",
        "\n",
        "Para más información: https://huggingface.co/datasets/mlsum"
      ],
      "metadata": {
        "id": "LOwU9KkkZmzd"
      }
    },
    {
      "cell_type": "markdown",
      "source": [
        "### 2.1. Lectura del conjunto de datos"
      ],
      "metadata": {
        "id": "TBM_wgklBoJE"
      }
    },
    {
      "cell_type": "code",
      "source": [
        "from datasets import load_dataset\n",
        "\n",
        "ds = load_dataset(\"mlsum\", 'es')"
      ],
      "metadata": {
        "id": "ctQ9a6Cd2Qgx"
      },
      "execution_count": null,
      "outputs": []
    },
    {
      "cell_type": "code",
      "source": [
        "ds"
      ],
      "metadata": {
        "id": "zMV61GDY9mHK"
      },
      "execution_count": null,
      "outputs": []
    },
    {
      "cell_type": "code",
      "source": [
        "# Mostramos un ejemplo del subconjunto de datos de entrenamiento\n",
        "ds[\"train\"][\"text\"][10]"
      ],
      "metadata": {
        "id": "FjWk5JtxBTkt"
      },
      "execution_count": null,
      "outputs": []
    },
    {
      "cell_type": "code",
      "source": [
        "# Mostramos el resumen correspondiente al ejemplo anterior\n",
        "ds[\"train\"][\"summary\"][10]"
      ],
      "metadata": {
        "id": "erPydK5F9uAz"
      },
      "execution_count": null,
      "outputs": []
    },
    {
      "cell_type": "markdown",
      "source": [
        "### 2.2. Formato del conjunto de datos"
      ],
      "metadata": {
        "id": "ouG-2az5Ucwd"
      }
    },
    {
      "cell_type": "markdown",
      "source": [
        "Tal y como hemos comentado en secciones anteriores, el conjunto de datos utilizado para aplicar instruction fine-tuning debe estar formado por ejemplos de entrenamiento de la siguiente forma:\n",
        "```\n",
        "(prompt, completion)\n",
        "```\n",
        "Para formar el prompt debemos tener en cuenta los siguientes puntos:\n",
        "\n",
        "\n",
        "*   Debe indicarse una instrucción para que realice el modelo. Es habitual utilizar plantillas que proponen los desarrolladores de los LLM para diseñar nuestros ejemplos de entrenamiento: https://github.com/google-research/FLAN/blob/main/flan/v2/flan_templates_branched.py\n",
        "\n",
        "La plantilla que vamos a seleccionar es la siguiente:\n",
        "\n",
        "\n",
        "```\n",
        "(\"Resume el siguiente articulo:\\n\\n{text}\", \"{summary}\")\n",
        "```\n",
        "\n",
        "\n",
        "\n",
        "*   Para afinar modelos como FLAN-T5 en tareas conversacionales donde queramos preservar el contexto de la conversación, se adopta un enfoque basado en secuencias, donde la interacción entre los participantes de la conversación se estructura en una sola cadena. La pregunta y la respuesta suelen estar separadas por un token especial, como <sep>, <eos>, o simplemente utilizando un delimitador claro (ej: `\\n`)\n",
        "\n",
        "\n",
        "\n",
        "```\n",
        "(\"Conversación:\\n[Usuario] ¿Cuál es la capital de Francia?\\n[Asistente] La capital de Francia es París.\\n[Usuario] ¿Y cuál es su río principal?\\n[Asistente] \", \"Su río principal es el Sena\")\n",
        "```\n",
        "\n",
        "\n"
      ],
      "metadata": {
        "id": "JoTmLltAUe_W"
      }
    },
    {
      "cell_type": "markdown",
      "source": [
        "Reducimos el tamaño del conjunto de datos para consumir menos recursos computacionales"
      ],
      "metadata": {
        "id": "n2bzyYyF5Oqg"
      }
    },
    {
      "cell_type": "code",
      "source": [
        "# Reducimos el conjunto de datos\n",
        "NUM_EJ_TRAIN = 1500\n",
        "NUM_EJ_VAL = 500\n",
        "NUM_EJ_TEST = 200\n",
        "\n",
        "# Subconjunto de entrenamiento\n",
        "ds['train'] = ds['train'].select(range(NUM_EJ_TRAIN))\n",
        "\n",
        "# Subconjunto de validación\n",
        "ds['validation'] = ds['validation'].select(range(NUM_EJ_VAL))\n",
        "\n",
        "# Subconjunto de pruebas\n",
        "ds['test'] = ds['test'].select(range(NUM_EJ_TEST))"
      ],
      "metadata": {
        "id": "HTHArrCV7eKq"
      },
      "execution_count": null,
      "outputs": []
    },
    {
      "cell_type": "code",
      "source": [
        "ds"
      ],
      "metadata": {
        "id": "Y6DwpUVa9Yb7"
      },
      "execution_count": null,
      "outputs": []
    },
    {
      "cell_type": "markdown",
      "source": [
        "Pre-procesamos el conjunto de datos para aplicar la plantilla seleccionada anteriormente."
      ],
      "metadata": {
        "id": "fR4vnTpuI1vD"
      }
    },
    {
      "cell_type": "code",
      "source": [
        "def parse_dataset(ejemplo):\n",
        "  \"\"\"Procesa los ejemplos para adaptarlos a la plantilla.\"\"\"\n",
        "  return {\"prompt\": f\"Resume el siguiente articulo:\\n\\n{ejemplo['text']}\"}"
      ],
      "metadata": {
        "id": "hS5iXTV04dhf"
      },
      "execution_count": null,
      "outputs": []
    },
    {
      "cell_type": "code",
      "source": [
        "ds[\"train\"] = ds[\"train\"].map(parse_dataset)\n",
        "ds[\"validation\"] = ds[\"validation\"].map(parse_dataset)\n",
        "ds[\"test\"] = ds[\"test\"].map(parse_dataset)"
      ],
      "metadata": {
        "colab": {
          "base_uri": "https://localhost:8080/",
          "height": 113,
          "referenced_widgets": [
            "45ba0148900748e6a00a3e031141c4b2",
            "d12cf0a8465446709833a7d38283ff52",
            "517207feda494f4f832dd10a02f4af36",
            "603b5f8bc19f4aaab50af448065799e2",
            "996f1d7c78ac4feb9feae0ea01931dfe",
            "031c9615b3e5447cac4ded40b45765eb",
            "3b4ec151381945d4824c12bc43a94039",
            "cae55cb43e39450a93f19839ad7e1a7e",
            "65ab34d9068b4caf830d5b1fea4e7745",
            "6936b982dcfc454cac8c28cc0cb1dc91",
            "be0310d0bfec46ec95ff06cfe89a4d3f",
            "fa961614c93e467f8f8b9302a552fa42",
            "86c80693bcb54e20ac9dda529cd50bf1",
            "3f48d4ba33a844b583977db920c743b9",
            "1ab319f2ec0040879bd131ce3de20f49",
            "6bb6eb24fcbd4830880a82abd1d373e7",
            "0f3816952a6b460b9248cdc5e3e162f3",
            "4570826452fe420da0c90417f1f76d47",
            "c0b313a566344b67956e4467e025a4a0",
            "7e24b93e76ac4d2981e3a535212032b7",
            "30bba8823f964498aff29604c1ba12bb",
            "92adba5452b24fd9ba29c641e4e5e14d",
            "3e04e54be7fa4fb8b0aaeae75798e510",
            "1623265b30a141b2869149757e56a5ad",
            "bb4b7d5c4afa44e0a6cd24325743c08a",
            "cb6bed32d9b1469c8e0eca26e808d357",
            "5813db71c32841dea9a9ed488b33a40f",
            "c3cc4ee2ed11413fb3d1597ed20c88a7",
            "b19b52a46c1b40b992fe1d13ce35bad0",
            "62dcb3d5e27449d98fa1cdd84a365d04",
            "34b1b1905eeb44dba4a14e70045cdbb3",
            "d28bf30575ae47dda47657197c71555e",
            "dc50238654ed475293808949fc9a1c6c"
          ]
        },
        "id": "FOsnFnht6QUZ",
        "outputId": "73f10509-719a-43c4-ea19-a862f000fcd7"
      },
      "execution_count": null,
      "outputs": [
        {
          "output_type": "display_data",
          "data": {
            "text/plain": [
              "Map:   0%|          | 0/1500 [00:00<?, ? examples/s]"
            ],
            "application/vnd.jupyter.widget-view+json": {
              "version_major": 2,
              "version_minor": 0,
              "model_id": "45ba0148900748e6a00a3e031141c4b2"
            }
          },
          "metadata": {}
        },
        {
          "output_type": "display_data",
          "data": {
            "text/plain": [
              "Map:   0%|          | 0/500 [00:00<?, ? examples/s]"
            ],
            "application/vnd.jupyter.widget-view+json": {
              "version_major": 2,
              "version_minor": 0,
              "model_id": "fa961614c93e467f8f8b9302a552fa42"
            }
          },
          "metadata": {}
        },
        {
          "output_type": "display_data",
          "data": {
            "text/plain": [
              "Map:   0%|          | 0/200 [00:00<?, ? examples/s]"
            ],
            "application/vnd.jupyter.widget-view+json": {
              "version_major": 2,
              "version_minor": 0,
              "model_id": "3e04e54be7fa4fb8b0aaeae75798e510"
            }
          },
          "metadata": {}
        }
      ]
    },
    {
      "cell_type": "code",
      "source": [
        "ds"
      ],
      "metadata": {
        "id": "67htYP3M6XmU"
      },
      "execution_count": null,
      "outputs": []
    },
    {
      "cell_type": "code",
      "source": [
        "print(ds[\"train\"][\"prompt\"][10])"
      ],
      "metadata": {
        "id": "l_Zqjcjm-V2V"
      },
      "execution_count": null,
      "outputs": []
    },
    {
      "cell_type": "code",
      "source": [
        "print(ds[\"train\"][\"text\"][10])"
      ],
      "metadata": {
        "id": "qhy5yiGhxfKN"
      },
      "execution_count": null,
      "outputs": []
    },
    {
      "cell_type": "markdown",
      "source": [
        "### 2.3. Tokenización del conjunto de datos"
      ],
      "metadata": {
        "id": "R8d23sOsmJcJ"
      }
    },
    {
      "cell_type": "code",
      "source": [
        "from transformers import AutoTokenizer, AutoModelForSeq2SeqLM\n",
        "\n",
        "tokenizer = AutoTokenizer.from_pretrained(\"google/flan-t5-small\")"
      ],
      "metadata": {
        "id": "tDSLhWXRmHqi"
      },
      "execution_count": null,
      "outputs": []
    },
    {
      "cell_type": "markdown",
      "source": [
        "Una de las cosas que comentabamos cuándo comenzamos a hablar de modelos generativos como la Redes Neuronales Recurrentes, es que este tipo de algoritmos, al igual que los LLMs, reciben secuencias del mismo tamaño.\n",
        "\n",
        "Con lo cual, al igual que hicimos en ese caso práctico al comienzo del curso, debemos obtener la secuencia más larga de nuestro conjunto de datos y realizar padding al resto de secuencias para que todas tengan el mismo tamaño."
      ],
      "metadata": {
        "id": "XAoBNcq3nqap"
      }
    },
    {
      "cell_type": "code",
      "source": [
        "from datasets import concatenate_datasets\n",
        "\n",
        "# Calculamos el tamaño máximo de prompt\n",
        "prompts_tokens = concatenate_datasets([ds[\"train\"], ds[\"validation\"], ds[\"test\"]]).map(lambda x: tokenizer(x[\"prompt\"], truncation=True), batched=True) # Va a truncar en 512 que es el tamaño máximo para este modelo\n",
        "max_token_len = max([len(x) for x in prompts_tokens[\"input_ids\"]])\n",
        "print(f\"Maximo tamaño de prompt: {max_token_len}\")\n",
        "\n",
        "# Calculamos el tamaño máximo de completion\n",
        "completions_tokens = concatenate_datasets([ds[\"train\"], ds[\"validation\"], ds[\"test\"]]).map(lambda x: tokenizer(x[\"summary\"], truncation=True), batched=True)\n",
        "max_completion_len = max([len(x) for x in completions_tokens[\"input_ids\"]])\n",
        "print(f\"Maximo tamaño de completion: {max_completion_len}\")"
      ],
      "metadata": {
        "id": "hPFqANRkoWK7"
      },
      "execution_count": null,
      "outputs": []
    },
    {
      "cell_type": "code",
      "source": [
        "def padding_tokenizer(datos):\n",
        "  # Tokenizar inputs (prompts)\n",
        "  model_inputs = tokenizer(datos['prompt'], max_length=max_token_len, padding=\"max_length\", truncation=True)\n",
        "\n",
        "  # Tokenizar labels (completions)\n",
        "  model_labels = tokenizer(datos['summary'], max_length=max_completion_len, padding=\"max_length\", truncation=True)\n",
        "\n",
        "  # Sustituimos el caracter de padding de las completion por -100 para que no se tenga en cuenta en el entrenamiento\n",
        "  model_labels[\"input_ids\"] = [[(l if l != tokenizer.pad_token_id else -100) for l in label] for label in model_labels[\"input_ids\"]]\n",
        "\n",
        "  model_inputs['labels'] = model_labels[\"input_ids\"]\n",
        "\n",
        "  return model_inputs"
      ],
      "metadata": {
        "id": "OeM56VhvwQdb"
      },
      "execution_count": null,
      "outputs": []
    },
    {
      "cell_type": "code",
      "source": [
        "ds_tokens = ds.map(padding_tokenizer, batched=True, remove_columns=['text', 'summary', 'topic', 'url', 'title', 'date', 'prompt'])"
      ],
      "metadata": {
        "id": "uGzo3DfGyMBX"
      },
      "execution_count": null,
      "outputs": []
    },
    {
      "cell_type": "code",
      "source": [
        "ds_tokens"
      ],
      "metadata": {
        "id": "WpUWjm8dyfxM"
      },
      "execution_count": null,
      "outputs": []
    },
    {
      "cell_type": "code",
      "source": [
        "ds_tokens[\"train\"][\"input_ids\"][10]"
      ],
      "metadata": {
        "id": "sG9nfcXN_grQ"
      },
      "execution_count": null,
      "outputs": []
    },
    {
      "cell_type": "markdown",
      "source": [
        "## 3. Fine-tuning del modelo"
      ],
      "metadata": {
        "id": "sFVyogGn0ruV"
      }
    },
    {
      "cell_type": "markdown",
      "source": [
        "### 3.1. Lectura del modelo"
      ],
      "metadata": {
        "id": "ACOqE3pXREHX"
      }
    },
    {
      "cell_type": "code",
      "source": [
        "from transformers import AutoModelForSeq2SeqLM\n",
        "\n",
        "# Cargamos el modelo\n",
        "model = AutoModelForSeq2SeqLM.from_pretrained(\"google/flan-t5-small\")"
      ],
      "metadata": {
        "id": "elL5ZTvv0t7L"
      },
      "execution_count": null,
      "outputs": []
    },
    {
      "cell_type": "markdown",
      "source": [
        "### 3.2. Evaluación durante el entrenamiento"
      ],
      "metadata": {
        "id": "H5cJ598pRHvd"
      }
    },
    {
      "cell_type": "markdown",
      "source": [
        "A continuación implementamos un conjunto de funciones auxiliares para evluar los resultados durante el proceso de entrenamiento"
      ],
      "metadata": {
        "id": "4cRoOqMYQ5N2"
      }
    },
    {
      "cell_type": "code",
      "source": [
        "import evaluate\n",
        "import nltk\n",
        "import numpy as np\n",
        "from nltk.tokenize import sent_tokenize\n",
        "nltk.download(\"punkt\")\n",
        "\n",
        "# Metrica de evaluación\n",
        "metric = evaluate.load(\"rouge\")\n",
        "\n",
        "# Funciona auxiliar para preprocesar el texto\n",
        "def postprocess_text(preds, labels):\n",
        "    preds = [pred.strip() for pred in preds]\n",
        "    labels = [label.strip() for label in labels]\n",
        "\n",
        "    # rougeLSum espera una nueva línea después de cada frase\n",
        "    preds = [\"\\n\".join(sent_tokenize(pred)) for pred in preds]\n",
        "    labels = [\"\\n\".join(sent_tokenize(label)) for label in labels]\n",
        "\n",
        "    return preds, labels\n",
        "\n",
        "def compute_metrics(eval_preds):\n",
        "    preds, labels = eval_preds\n",
        "\n",
        "    if isinstance(preds, tuple):\n",
        "        preds = preds[0]\n",
        "\n",
        "    decoded_preds = tokenizer.batch_decode(preds, skip_special_tokens=True)\n",
        "\n",
        "    # Reemplazamos -100 en las etiquetas porque no podemos decodificarlo\n",
        "    labels = np.where(labels != -100, labels, tokenizer.pad_token_id)\n",
        "    decoded_labels = tokenizer.batch_decode(labels, skip_special_tokens=True)\n",
        "\n",
        "    # Preprocesamos el texto\n",
        "    decoded_preds, decoded_labels = postprocess_text(decoded_preds, decoded_labels)\n",
        "    result = metric.compute(predictions=decoded_preds, references=decoded_labels, use_stemmer=True)\n",
        "    result = {k: round(v * 100, 4) for k, v in result.items()}\n",
        "    prediction_lens = [np.count_nonzero(pred != tokenizer.pad_token_id) for pred in preds]\n",
        "    result[\"gen_len\"] = np.mean(prediction_lens)\n",
        "    return result"
      ],
      "metadata": {
        "id": "XMF_6ypK03qG"
      },
      "execution_count": null,
      "outputs": []
    },
    {
      "cell_type": "markdown",
      "source": [
        "### 3.3. Lectura y adaptación de los datos para el entrenamiento"
      ],
      "metadata": {
        "id": "nt2Jyv1pROPf"
      }
    },
    {
      "cell_type": "code",
      "source": [
        "from transformers import DataCollatorForSeq2Seq\n",
        "\n",
        "# Ignoramos los tokens relacionados con el padding durante el proceso de entrenamiento para los prompts\n",
        "label_pad_token_id = -100\n",
        "\n",
        "# Recolector de datos para el entrenamiento del modelo\n",
        "data_collator = DataCollatorForSeq2Seq(\n",
        "    tokenizer,\n",
        "    model=model,\n",
        "    label_pad_token_id=label_pad_token_id,\n",
        "    pad_to_multiple_of=8\n",
        ")\n"
      ],
      "metadata": {
        "id": "jC74FZWW1RLM"
      },
      "execution_count": null,
      "outputs": []
    },
    {
      "cell_type": "markdown",
      "source": [
        "### Preparación y ejecución del fine-tuning (entrenamiento)"
      ],
      "metadata": {
        "id": "SXTs5vb_RTQp"
      }
    },
    {
      "cell_type": "code",
      "source": [
        "from transformers import Seq2SeqTrainer, Seq2SeqTrainingArguments\n",
        "\n",
        "REPOSITORY=\"/content/drive/MyDrive/flan-t5-small-fine-tuned\"\n",
        "\n",
        "# Definimos las opciones del entrenamiento\n",
        "training_args = Seq2SeqTrainingArguments(\n",
        "    # Hiperprámetros del entrenamiento\n",
        "    output_dir=REPOSITORY,\n",
        "    per_device_train_batch_size=8,\n",
        "    per_device_eval_batch_size=8,\n",
        "    predict_with_generate=True,\n",
        "    fp16=False,  # Overflows with fp16\n",
        "    learning_rate=5e-5,\n",
        "    num_train_epochs=4,\n",
        "    # Estrategias de logging y evaluación\n",
        "    logging_dir=f\"{REPOSITORY}/logs\",\n",
        "    logging_strategy=\"steps\",\n",
        "    logging_steps=500,\n",
        "    evaluation_strategy=\"epoch\",\n",
        "    save_strategy=\"epoch\",\n",
        "    save_total_limit=2,\n",
        "    load_best_model_at_end=True,\n",
        ")\n",
        "\n",
        "# Creamos la instancia de entrenamiento\n",
        "trainer = Seq2SeqTrainer(\n",
        "    model=model,\n",
        "    args=training_args,\n",
        "    data_collator=data_collator,\n",
        "    train_dataset=ds_tokens[\"train\"],\n",
        "    eval_dataset=ds_tokens[\"validation\"],\n",
        "    compute_metrics=compute_metrics,\n",
        ")"
      ],
      "metadata": {
        "id": "WCY-cd0K1XM7"
      },
      "execution_count": null,
      "outputs": []
    },
    {
      "cell_type": "code",
      "source": [
        "# Guardamos el tokenizador en disco para utilizarlo posteriormente\n",
        "tokenizer.save_pretrained(f\"{REPOSITORY}/tokenizer\")"
      ],
      "metadata": {
        "id": "TUsi23MF9jxF"
      },
      "execution_count": null,
      "outputs": []
    },
    {
      "cell_type": "code",
      "source": [
        "# Iniciamos el entrenamiento\n",
        "trainer.train()"
      ],
      "metadata": {
        "id": "pmH7IV5U2YNL"
      },
      "execution_count": null,
      "outputs": []
    },
    {
      "cell_type": "markdown",
      "source": [
        "## 4. Generación de texto con Flan-T5 Fine-tuned y evaluación"
      ],
      "metadata": {
        "id": "-JF_Kn0SNjdE"
      }
    },
    {
      "cell_type": "markdown",
      "source": [
        "### Lectura del modelo y del tokenizador"
      ],
      "metadata": {
        "id": "GwQTEtYxxJL2"
      }
    },
    {
      "cell_type": "code",
      "source": [
        "from transformers import T5Tokenizer, T5ForConditionalGeneration\n",
        "\n",
        "REPOSITORY=\"/content/drive/MyDrive/flan-t5-small-fine-tuned\"\n",
        "\n",
        "# Importamos el tokenizador\n",
        "tokenizer_FT5_FT = T5Tokenizer.from_pretrained(f\"{REPOSITORY}/tokenizer\")\n",
        "\n",
        "# Importamos el modelo con fine-tuning\n",
        "model_FT5_FT = T5ForConditionalGeneration.from_pretrained(f\"{REPOSITORY}/checkpoint-752\", device_map=\"auto\")"
      ],
      "metadata": {
        "id": "c3VY4Kh5ws2j"
      },
      "execution_count": null,
      "outputs": []
    },
    {
      "cell_type": "markdown",
      "source": [
        "### Generación de texto"
      ],
      "metadata": {
        "id": "SYNStKIaxM8U"
      }
    },
    {
      "cell_type": "code",
      "source": [
        "text = \"\"\"Astrónomos detectaron una misteriosa ráfaga de ondas de radio que tardó \\\n",
        "8.000 millones de años en llegar a la Tierra. La ráfaga rápida de radio es una de \\\n",
        "las más distantes y energéticas jamás observadas. Las ráfagas rápidas de radio \\\n",
        "(FRB, por sus siglas en inglés) son intensos estallidos de ondas de radio de \\\n",
        "milisegundos de duración cuyo origen se desconoce. La primera FRB se descubrió \\\n",
        "en 2007 y, desde entonces, se han detectado cientos de estos rápidos destellos \\\n",
        "cósmicos procedentes de puntos distantes de todo el universo.\"\"\""
      ],
      "metadata": {
        "id": "5oBZtVHVx4N_"
      },
      "execution_count": null,
      "outputs": []
    },
    {
      "cell_type": "code",
      "source": [
        "text = \"\"\"\"La Revolución Industrial, que tuvo lugar principalmente en el siglo XIX, \\\n",
        "fue un período de grandes cambios tecnológicos, culturales y socioeconómicos que \\\n",
        "transformó a las sociedades agrarias en sociedades industriales. Durante este tiempo, \\\n",
        "hubo un cambio masivo de mano de obra de las granjas a las fábricas. Esto se debió a \\\n",
        "la invención de nuevas máquinas que podían realizar tareas más rápido y eficientemente \\\n",
        "que los humanos o los animales. Esta transición llevó a un aumento en la producción de \\\n",
        "bienes, pero también tuvo consecuencias negativas, como la explotación \\laboral y la \\\n",
        "contaminación ambiental.\"\"\""
      ],
      "metadata": {
        "id": "UB0laeAA-u9S"
      },
      "execution_count": null,
      "outputs": []
    },
    {
      "cell_type": "code",
      "source": [
        "text = \"\"\"\"El telescopio Hubble, lanzado al espacio en 1990, ha proporcionado imágenes \\\n",
        "impresionantes del universo y ha ayudado a los científicos a comprender mejor la cosmología.\"\"\""
      ],
      "metadata": {
        "id": "w-8a18_lDybb"
      },
      "execution_count": null,
      "outputs": []
    },
    {
      "cell_type": "code",
      "source": [
        "# Construimos el prompt conforme a la plantilla de fine-tuning\n",
        "prompt_template = f\"Resume el siguiente articulo:\\n\\n{text}\"\n",
        "\n",
        "# Tokenizamos el prompt\n",
        "prompt_tokens = tokenizer_FT5_FT(prompt_template, return_tensors=\"pt\").input_ids.to(\"cuda\")\n",
        "\n",
        "# Generamos los siguientes tokens\n",
        "outputs = model_FT5_FT.generate(prompt_tokens, max_length=300)\n",
        "\n",
        "# Transformamos los tokens generados en texto\n",
        "print(tokenizer_FT5_FT.decode(outputs[0]))"
      ],
      "metadata": {
        "id": "AuDVUnmZxOo8"
      },
      "execution_count": null,
      "outputs": []
    },
    {
      "cell_type": "markdown",
      "source": [
        "### Evaluación con el subconjunto de pruebas"
      ],
      "metadata": {
        "id": "ysOERK0FdK-r"
      }
    },
    {
      "cell_type": "code",
      "source": [
        "import torch\n",
        "\n",
        "# Cambiamos el modelo al modo de evaluación\n",
        "model_FT5_FT.eval()\n",
        "\n",
        "# Definir tamaño del lote\n",
        "batch_size = 8\n",
        "\n",
        "all_predictions = []\n",
        "\n",
        "# Deshabilitamos el entrenamiento y obtenemos las completions\n",
        "with torch.no_grad():\n",
        "  for i in range(0, len(ds_tokens[\"test\"][\"input_ids\"]), batch_size):\n",
        "        # Extraemos el lote actual\n",
        "        input_ids_batch = torch.tensor(ds_tokens[\"test\"][\"input_ids\"][i:i+batch_size], device='cuda:0')\n",
        "\n",
        "        # Obtenemos las predicciones del modelo\n",
        "        outputs = model_FT5_FT.generate(input_ids_batch)\n",
        "\n",
        "        # Concatenemos las predicciones\n",
        "        all_predictions.extend(outputs)\n",
        "\n",
        "# Calculamos las metricas\n",
        "labels = np.array(ds_tokens['test']['labels'])\n",
        "completions = np.array([pred.cpu().numpy() for pred in all_predictions])\n",
        "\n",
        "metrics = compute_metrics((completions, labels))\n",
        "\n",
        "print(metrics)"
      ],
      "metadata": {
        "id": "1MwIHYb_-1Yn"
      },
      "execution_count": null,
      "outputs": []
    },
    {
      "cell_type": "code",
      "source": [],
      "metadata": {
        "id": "PznArPzRts8I"
      },
      "execution_count": null,
      "outputs": []
    }
  ]
}