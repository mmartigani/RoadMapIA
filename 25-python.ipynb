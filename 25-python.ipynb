{
  "nbformat": 4,
  "nbformat_minor": 0,
  "metadata": {
    "colab": {
      "provenance": [],
      "authorship_tag": "ABX9TyP4mqrOt6bm/e9V1O9deaqi",
      "include_colab_link": true
    },
    "kernelspec": {
      "name": "python3",
      "display_name": "Python 3"
    },
    "language_info": {
      "name": "python"
    }
  },
  "cells": [
    {
      "cell_type": "markdown",
      "metadata": {
        "id": "view-in-github",
        "colab_type": "text"
      },
      "source": [
        "<a href=\"https://colab.research.google.com/github/mmartigani/RoadMapIA/blob/main/python.ipynb\" target=\"_parent\"><img src=\"https://colab.research.google.com/assets/colab-badge.svg\" alt=\"Open In Colab\"/></a>"
      ]
    },
    {
      "cell_type": "code",
      "source": [
        "# Practical exercise: generate a QR code that takes me to a website."
      ],
      "metadata": {
        "id": "ye45Bho6SzGF"
      },
      "execution_count": null,
      "outputs": []
    },
    {
      "cell_type": "code",
      "source": [
        "!pip install qrcode==7.4.2"
      ],
      "metadata": {
        "colab": {
          "base_uri": "https://localhost:8080/"
        },
        "id": "C_Kj9V8sR73R",
        "outputId": "4c1524c0-99a9-4f48-968c-779819974406"
      },
      "execution_count": null,
      "outputs": [
        {
          "output_type": "stream",
          "name": "stdout",
          "text": [
            "Requirement already satisfied: qrcode==7.4.2 in /usr/local/lib/python3.11/dist-packages (7.4.2)\n",
            "Requirement already satisfied: typing-extensions in /usr/local/lib/python3.11/dist-packages (from qrcode==7.4.2) (4.14.0)\n",
            "Requirement already satisfied: pypng in /usr/local/lib/python3.11/dist-packages (from qrcode==7.4.2) (0.20220715.0)\n"
          ]
        }
      ]
    },
    {
      "cell_type": "code",
      "source": [
        "import qrcode\n",
        "url=\"https//www.google.com\"\n",
        "img =qrcode.make(url)\n",
        "img.save(\"qr_google.png\")\n",
        "print(\"qr code generated and save\")"
      ],
      "metadata": {
        "colab": {
          "base_uri": "https://localhost:8080/"
        },
        "id": "i0wUfvrDSC6l",
        "outputId": "066b8c7f-8948-4b66-89e5-b0fe66628587"
      },
      "execution_count": null,
      "outputs": [
        {
          "output_type": "stream",
          "name": "stdout",
          "text": [
            "qr code generated and save\n"
          ]
        }
      ]
    },
    {
      "cell_type": "code",
      "source": [
        "# text analyzer\n",
        "# phrase\n",
        "# No one has changed the world by working 40 hours a weekt\n",
        "text = input(\"enter a text of your choice: \")\n",
        "letters = []\n",
        "text = text.lower()\n",
        "first_letter = input(\"enter the first letter: \").lower()\n",
        "letters.append(first_letter)\n",
        "second_letter = input(\"enter the second letter: \").lower()\n",
        "letters.append(second_letter)\n",
        "third_letter = input(\"enter the third letter: \").lower()\n",
        "letters.append(third_letter)\n",
        "print(\"\\n\")\n",
        "print(\"number of letters\")\n",
        "number_of_letters1 = text.count(letters[0])\n",
        "number_of_letters2 = text.count(letters[1])\n",
        "number_of_letters3 = text.count(letters[2])\n",
        "print(f\"we had found the letter '{letters[0]}' repited {number_of_letters1} times\")\n",
        "print(f\"we had found the letter '{letters[1]}' repited {number_of_letters2} times\")\n",
        "print(f\"we had found the letter '{letters[2]}' repited {number_of_letters3} times\")\n",
        "print(\"\\n\")\n",
        "print(\"number of words\")\n",
        "words = text.split()\n",
        "print(f\"we had found {len(words)} words in your text\")\n",
        "print(\"\\n\")\n",
        "print(\"start and end letters\")\n",
        "start_letter = text[0]\n",
        "end_letter = text[-1]\n",
        "print(f\"the first letter of your text is '{start_letter}'and the last letter of your text is '{end_letter}'\")\n",
        "print(\"\\n\")\n",
        "print(\"inverted text\")\n",
        "words.reverse()\n",
        "inverted_text = ' '.join(words)\n",
        "print(f\"the inverted text says: '{inverted_text}'\")\n",
        "print(\"\\n\")\n",
        "print(\"looking for the word\")\n",
        "searching = 'week' in text\n",
        "dic = {True:'yes', False:'no'}\n",
        "print(f\"the word 'week' {dic[searching]} is in your text\")"
      ],
      "metadata": {
        "colab": {
          "base_uri": "https://localhost:8080/"
        },
        "id": "tpc8k8YOmm8N",
        "outputId": "c4e7b224-5e68-4fa9-fb54-7e82f79b54f7"
      },
      "execution_count": null,
      "outputs": [
        {
          "output_type": "stream",
          "name": "stdout",
          "text": [
            "enter a text of your choice: No one has changed the world by working 40 hours a week\n",
            "enter the first letter: a\n",
            "enter the second letter: r\n",
            "enter the third letter: \n",
            "\n",
            "\n",
            "number of letters\n",
            "we had found the letter 'a' repited 3 times\n",
            "we had found the letter 'r' repited 3 times\n",
            "we had found the letter '' repited 56 times\n",
            "\n",
            "\n",
            "number of words\n",
            "we had found 12 words in your text\n",
            "\n",
            "\n",
            "start and end letters\n",
            "the first letter of your text is 'n'and the last letter of your text is 'k'\n",
            "\n",
            "\n",
            "inverted text\n",
            "the inverted text says: 'week a hours 40 working by world the changed has one no'\n",
            "\n",
            "\n",
            "looking for the word\n",
            "the word 'week' yes is in your text\n"
          ]
        }
      ]
    },
    {
      "cell_type": "code",
      "source": [
        "# practical exercise : guess the number game"
      ],
      "metadata": {
        "id": "Rb2wznJs45-w"
      },
      "execution_count": null,
      "outputs": []
    },
    {
      "cell_type": "code",
      "source": [
        "from random import randint\n",
        "attempts = 0\n",
        "my_dear = 0\n",
        "secret_number = randint(1,100)\n",
        "name = input(\"enter your name: \")\n",
        "print(f\"Good {name}, I thought of a number between 1 and 100\\n i have 8 attemps\")\n",
        "while attempts < 8:\n",
        "  my_dear = int(input(\"what is the number: \"))\n",
        "  attempts += 1\n",
        "  if my_dear not in range(1,101):\n",
        "    print(\"Your number is not in the range of one to one hundred\")\n",
        "  elif my_dear < secret_number:\n",
        "    print(\"my number is higher\")\n",
        "  elif my_dear > secret_number:\n",
        "    print(\"my number is lower\")\n",
        "  else :\n",
        "    print(f\"congratulations {name}! you have guessed in {attempts} attemps\")\n",
        "    break\n",
        "if my_dear != secret_number:\n",
        "  print(f\"Sorry, we've used up all our attempts.The secret number was {secret_number}\")\n"
      ],
      "metadata": {
        "colab": {
          "base_uri": "https://localhost:8080/"
        },
        "id": "-JAzycDfa6YR",
        "outputId": "3d243e2f-e0db-4daf-8afa-710394915414"
      },
      "execution_count": null,
      "outputs": [
        {
          "output_type": "stream",
          "name": "stdout",
          "text": [
            "enter your name: zero\n",
            "Good zero, I thought of a number between 1 and 100\n",
            " i have 8 attemps\n",
            "what is the number: 50\n",
            "my number is higher\n",
            "what is the number: 75\n",
            "my number is lower\n",
            "what is the number: 60\n",
            "my number is lower\n",
            "what is the number: 45\n",
            "my number is higher\n",
            "what is the number: 40\n",
            "my number is higher\n",
            "what is the number: 42\n",
            "my number is higher\n",
            "what is the number: 44\n",
            "my number is higher\n",
            "what is the number: 47\n",
            "my number is higher\n",
            "Sorry, we've used up all our attempts.The secret number was 51\n"
          ]
        }
      ]
    },
    {
      "cell_type": "code",
      "source": [
        "def even_or_odd(number):\n",
        "  if number %2 == 0:\n",
        "    return \"even\"\n",
        "  else:\n",
        "    return \"odd\"\n",
        "print(even_or_odd(5))\n",
        "print(even_or_odd(10))"
      ],
      "metadata": {
        "colab": {
          "base_uri": "https://localhost:8080/"
        },
        "id": "nvHyqzJCkaRp",
        "outputId": "15b45971-34c3-4b91-dd28-6bce6e0b3b17"
      },
      "execution_count": null,
      "outputs": [
        {
          "output_type": "stream",
          "name": "stdout",
          "text": [
            "odd\n",
            "even\n"
          ]
        }
      ]
    },
    {
      "cell_type": "code",
      "source": [
        "def largest_number(a,b,c):\n",
        "  if a>=b and a>=c:\n",
        "    return a\n",
        "  elif b>=a and b>=c:\n",
        "    return b\n",
        "  else:\n",
        "    return c\n",
        "print(largest_number(1,2,3))\n",
        "print(largest_number(3,2,7))"
      ],
      "metadata": {
        "colab": {
          "base_uri": "https://localhost:8080/"
        },
        "id": "ZrxI_upzo38H",
        "outputId": "ef11c840-a81f-4f38-9ee6-df7dc5756507"
      },
      "execution_count": null,
      "outputs": [
        {
          "output_type": "stream",
          "name": "stdout",
          "text": [
            "3\n",
            "7\n"
          ]
        }
      ]
    },
    {
      "cell_type": "code",
      "source": [
        "def sum_pair(list_numbers):\n",
        "  addition = 0\n",
        "  for number in list_numbers:\n",
        "    if number %2 == 0:\n",
        "      addition += number\n",
        "  return addition\n",
        "print(sum_pair([1,2,3,4,5,6,7,8,9,10]))"
      ],
      "metadata": {
        "colab": {
          "base_uri": "https://localhost:8080/"
        },
        "id": "BKbq4sgCqAIa",
        "outputId": "f6ccf626-7003-40bc-bc4c-7b45b20f9d0a"
      },
      "execution_count": null,
      "outputs": [
        {
          "output_type": "stream",
          "name": "stdout",
          "text": [
            "30\n"
          ]
        }
      ]
    },
    {
      "cell_type": "code",
      "source": [
        "def palindrome(strings_a):\n",
        "  strings_a = strings_a.lower().replace(\"\",\"\")\n",
        "  return strings_a == strings_a[::-1]\n",
        "print(palindrome(\"ana\"))\n",
        "print(palindrome(\"oso\"))\n",
        "print(palindrome(\"python\"))"
      ],
      "metadata": {
        "colab": {
          "base_uri": "https://localhost:8080/"
        },
        "id": "u7Jz1uZDrMh7",
        "outputId": "1b91cdc8-b2be-4f1f-a2b8-a4daced893c1"
      },
      "execution_count": null,
      "outputs": [
        {
          "output_type": "stream",
          "name": "stdout",
          "text": [
            "True\n",
            "True\n",
            "False\n"
          ]
        }
      ]
    },
    {
      "cell_type": "code",
      "source": [
        "def factorial(n):\n",
        "  if n < 0:\n",
        "    return \"not for negative numbers\"\n",
        "  elif n == 0:\n",
        "    return 1\n",
        "  else:\n",
        "    result = 1\n",
        "    for i in range(1, n + 1):\n",
        "      result *= i\n",
        "    return result\n",
        "print(factorial(5))\n",
        "print(factorial(0))\n",
        "print(factorial(-5))"
      ],
      "metadata": {
        "colab": {
          "base_uri": "https://localhost:8080/"
        },
        "id": "8cZayTY0sHyR",
        "outputId": "fa7489b2-d00e-4214-b64f-c00a9692e242"
      },
      "execution_count": null,
      "outputs": [
        {
          "output_type": "stream",
          "name": "stdout",
          "text": [
            "120\n",
            "1\n",
            "not for negative numbers\n"
          ]
        }
      ]
    },
    {
      "cell_type": "code",
      "source": [
        "import random\n",
        "import string\n",
        "from datetime import datetime, timedelta\n",
        "\n",
        "LONGITUD_CONTRASENA = 13\n",
        "DIAS_CADUCIDAD = 30\n",
        "DIAS_AVISO_PREVIO = 7\n",
        "ARCHIVO_CONTRASENA = \"contrasena_data.txt\"\n",
        "\n",
        "def generar_contrasena(longitud):\n",
        "    caracteres = string.ascii_letters + string.digits + string.punctuation\n",
        "    contrasena = ''.join(random.choice(caracteres) for i in range(longitud))\n",
        "    return contrasena\n",
        "\n",
        "def guardar_contrasena(contrasena, fecha_creacion):\n",
        "    try:\n",
        "        with open(ARCHIVO_CONTRASENA, \"w\") as f:\n",
        "            f.write(contrasena + \"\\n\")\n",
        "            f.write(fecha_creacion.strftime(\"%Y-%m-%d\"))\n",
        "        print(f\"\\nContraseña guardada y fecha de creación: {fecha_creacion.strftime('%Y-%m-%d')}\")\n",
        "    except IOError:\n",
        "        print(\"Error: No se pudo escribir en el archivo de la contraseña.\")\n",
        "\n",
        "def cargar_contrasena():\n",
        "    try:\n",
        "        with open(ARCHIVO_CONTRASENA, \"r\") as f:\n",
        "            lineas = f.readlines()\n",
        "            if len(lineas) >= 2:\n",
        "                contrasena = lineas[0].strip()\n",
        "                fecha_str = lineas[1].strip()\n",
        "                fecha_creacion = datetime.strptime(fecha_str, \"%Y-%m-%d\")\n",
        "                return contrasena, fecha_creacion\n",
        "            else:\n",
        "                return None, None\n",
        "    except FileNotFoundError:\n",
        "        return None, None\n",
        "    except Exception as e:\n",
        "        print(f\"Error al cargar la contraseña: {e}\")\n",
        "        return None, None\n",
        "\n",
        "def gestionar_contrasena():\n",
        "    contrasena_actual, fecha_creacion = cargar_contrasena()\n",
        "    fecha_actual = datetime.now()\n",
        "\n",
        "    if contrasena_actual:\n",
        "        fecha_caducidad = fecha_creacion + timedelta(days=DIAS_CADUCIDAD)\n",
        "        dias_restantes = (fecha_caducidad - fecha_actual).days\n",
        "\n",
        "        print(\"\\n--- Estado de la Contraseña ---\")\n",
        "        print(f\"Contraseña actual: {contrasena_actual}\")\n",
        "        print(f\"Fecha de creación: {fecha_creacion.strftime('%Y-%m-%d')}\")\n",
        "        print(f\"Fecha de caducidad: {fecha_caducidad.strftime('%Y-%m-%d')}\")\n",
        "\n",
        "        if dias_restantes <= 0:\n",
        "            print(\"\\n¡ADVERTENCIA: TU CONTRASEÑA HA CADUCADO!\")\n",
        "            print(\"Es hora de generar una nueva contraseña.\")\n",
        "            generar_nueva = input(\"¿Deseas generar una nueva contraseña ahora? (s/n): \").lower()\n",
        "            if generar_nueva == 's':\n",
        "                nueva_contrasena = generar_contrasena(LONGITUD_CONTRASENA)\n",
        "                print(f\"Tu nueva contraseña generada es: {nueva_contrasena}\")\n",
        "                guardar_contrasena(nueva_contrasena, fecha_actual)\n",
        "            else:\n",
        "                print(\"Recuerda cambiar tu contraseña pronto.\")\n",
        "        elif dias_restantes <= DIAS_AVISO_PREVIO:\n",
        "            print(f\"\\n¡AVISO: TU CONTRASEÑA CADUCA EN {dias_restantes} DÍA(S)!\")\n",
        "            print(\"Considera cambiarla pronto.\")\n",
        "            generar_nueva = input(\"¿Deseas generar una nueva contraseña ahora? (s/n): \").lower()\n",
        "            if generar_nueva == 's':\n",
        "                nueva_contrasena = generar_contrasena(LONGITUD_CONTRASENA)\n",
        "                print(f\"Tu nueva contraseña generada es: {nueva_contrasena}\")\n",
        "                guardar_contrasena(nueva_contrasena, fecha_actual)\n",
        "            else:\n",
        "                print(\"De acuerdo. Por favor, mantente atento a la fecha de caducidad.\")\n",
        "        else:\n",
        "            print(f\"Tu contraseña está vigente. Faltan {dias_restantes} días para que caduque.\")\n",
        "            print(\"Puedes ejecutar este programa de nuevo para verificar el estado.\")\n",
        "            ver_contrasena = input(\"¿Deseas ver la contraseña actual? (s/n): \").lower()\n",
        "            if ver_contrasena == 's':\n",
        "                 print(f\"Tu contraseña actual es: {contrasena_actual}\")\n",
        "\n",
        "\n",
        "    else:\n",
        "        print(\"No se encontró una contraseña guardada. Generando una nueva...\")\n",
        "        nueva_contrasena = generar_contrasena(LONGITUD_CONTRASENA)\n",
        "        print(f\"Tu nueva contraseña generada es: {nueva_contrasena}\")\n",
        "        guardar_contrasena(nueva_contrasena, fecha_actual)\n",
        "\n",
        "if __name__ == \"__main__\":\n",
        "    gestionar_contrasena()"
      ],
      "metadata": {
        "colab": {
          "base_uri": "https://localhost:8080/"
        },
        "id": "uSmWN9Naye-M",
        "outputId": "9764d1f8-4c88-43c4-dc0c-070c078510a0"
      },
      "execution_count": null,
      "outputs": [
        {
          "output_type": "stream",
          "name": "stdout",
          "text": [
            "\n",
            "--- Estado de la Contraseña ---\n",
            "Contraseña actual: LZWK5z0k+g^C\n",
            "Fecha de creación: 2025-06-08\n",
            "Fecha de caducidad: 2025-07-08\n",
            "Tu contraseña está vigente. Faltan 29 días para que caduque.\n",
            "Puedes ejecutar este programa de nuevo para verificar el estado.\n",
            "¿Deseas ver la contraseña actual? (s/n): s\n",
            "Tu contraseña actual es: LZWK5z0k+g^C\n"
          ]
        }
      ]
    },
    {
      "cell_type": "code",
      "source": [
        "def chatbot_basico():\n",
        "    \"\"\"\n",
        "    Un chatbot simple que responde a saludos y algunas preguntas básicas.\n",
        "    \"\"\"\n",
        "    print(\"Hola! Soy un chatbot básico. Puedes preguntarme sobre la fecha, mi nombre o mi función.\")\n",
        "    print(\"Escribe 'salir' para terminar la conversación.\")\n",
        "\n",
        "    while True:\n",
        "        entrada_usuario = input(\"Tú: \").lower().strip()\n",
        "\n",
        "        if \"hola\" in entrada_usuario or \"saludos\" in entrada_usuario:\n",
        "            print(\"Chatbot: ¡Hola! ¿Cómo estás hoy?\")\n",
        "        elif \"cómo estás\" in entrada_usuario or \"que tal\" in entrada_usuario:\n",
        "            print(\"Chatbot: Estoy bien, gracias por preguntar. ¡Soy un programa de computadora!\")\n",
        "        elif \"tu nombre\" in entrada_usuario or \"quién eres\" in entrada_usuario:\n",
        "            print(\"Chatbot: Soy un chatbot simple creado en Python. Me llamo zerocool.\")\n",
        "        elif \"qué haces\" in entrada_usuario or \"tu función\" in entrada_usuario:\n",
        "            print(\"Chatbot: Mi función es conversar contigo de forma básica y responder algunas preguntas.\")\n",
        "        elif \"que dia es hoy\" in entrada_usuario or \"fecha\" in entrada_usuario:\n",
        "            print(\"Chatbot: la fecha y dia de la semana es \")\n",
        "        elif \"adiós\" in entrada_usuario or \"salir\" in entrada_usuario or \"bye\" in entrada_usuario:\n",
        "            print(\"Chatbot: ¡Adiós! Fue un placer conversar contigo. ¡Que tengas un buen día!\")\n",
        "            break\n",
        "        else:\n",
        "            print(\"Chatbot: Lo siento, no entiendo esa pregunta. ¿Puedes reformularla?\")\n",
        "if __name__ == \"__main__\":\n",
        "    chatbot_basico()"
      ],
      "metadata": {
        "colab": {
          "base_uri": "https://localhost:8080/"
        },
        "id": "z-R5U1dv0DK9",
        "outputId": "ea4053a5-3fea-4179-a762-5b08ade6cacc"
      },
      "execution_count": 4,
      "outputs": [
        {
          "output_type": "stream",
          "name": "stdout",
          "text": [
            "Hola! Soy un chatbot básico. Puedes preguntarme sobre el clima, mi nombre o mi función.\n",
            "Escribe 'salir' para terminar la conversación.\n",
            "Tú: hola\n",
            "Chatbot: ¡Hola! ¿Cómo estás hoy?\n",
            "Tú: tu nombre\n",
            "Chatbot: Soy un chatbot simple creado en Python. Me llamo zerocool.\n",
            "Tú: que dia es hoy\n",
            "Chatbot: la fecha y dia de la semana es \n",
            "Tú: adios\n",
            "Chatbot: Lo siento, no entiendo esa pregunta. ¿Puedes reformularla?\n",
            "Tú: salir\n",
            "Chatbot: ¡Adiós! Fue un placer conversar contigo. ¡Que tengas un buen día!\n"
          ]
        }
      ]
    },
    {
      "cell_type": "code",
      "source": [
        "!pip install googletrans==4.0.0-rc1"
      ],
      "metadata": {
        "colab": {
          "base_uri": "https://localhost:8080/"
        },
        "id": "nFk7R7MeE6kM",
        "outputId": "2cee3e2a-1f54-4ac0-d2dd-30c6afa3ac70"
      },
      "execution_count": 2,
      "outputs": [
        {
          "output_type": "stream",
          "name": "stdout",
          "text": [
            "Collecting googletrans==4.0.0-rc1\n",
            "  Downloading googletrans-4.0.0rc1.tar.gz (20 kB)\n",
            "  Preparing metadata (setup.py) ... \u001b[?25l\u001b[?25hdone\n",
            "Collecting httpx==0.13.3 (from googletrans==4.0.0-rc1)\n",
            "  Downloading httpx-0.13.3-py3-none-any.whl.metadata (25 kB)\n",
            "Requirement already satisfied: certifi in /usr/local/lib/python3.11/dist-packages (from httpx==0.13.3->googletrans==4.0.0-rc1) (2025.4.26)\n",
            "Collecting hstspreload (from httpx==0.13.3->googletrans==4.0.0-rc1)\n",
            "  Downloading hstspreload-2025.1.1-py3-none-any.whl.metadata (2.1 kB)\n",
            "Requirement already satisfied: sniffio in /usr/local/lib/python3.11/dist-packages (from httpx==0.13.3->googletrans==4.0.0-rc1) (1.3.1)\n",
            "Collecting chardet==3.* (from httpx==0.13.3->googletrans==4.0.0-rc1)\n",
            "  Downloading chardet-3.0.4-py2.py3-none-any.whl.metadata (3.2 kB)\n",
            "Collecting idna==2.* (from httpx==0.13.3->googletrans==4.0.0-rc1)\n",
            "  Downloading idna-2.10-py2.py3-none-any.whl.metadata (9.1 kB)\n",
            "Collecting rfc3986<2,>=1.3 (from httpx==0.13.3->googletrans==4.0.0-rc1)\n",
            "  Downloading rfc3986-1.5.0-py2.py3-none-any.whl.metadata (6.5 kB)\n",
            "Collecting httpcore==0.9.* (from httpx==0.13.3->googletrans==4.0.0-rc1)\n",
            "  Downloading httpcore-0.9.1-py3-none-any.whl.metadata (4.6 kB)\n",
            "Collecting h11<0.10,>=0.8 (from httpcore==0.9.*->httpx==0.13.3->googletrans==4.0.0-rc1)\n",
            "  Downloading h11-0.9.0-py2.py3-none-any.whl.metadata (8.1 kB)\n",
            "Collecting h2==3.* (from httpcore==0.9.*->httpx==0.13.3->googletrans==4.0.0-rc1)\n",
            "  Downloading h2-3.2.0-py2.py3-none-any.whl.metadata (32 kB)\n",
            "Collecting hyperframe<6,>=5.2.0 (from h2==3.*->httpcore==0.9.*->httpx==0.13.3->googletrans==4.0.0-rc1)\n",
            "  Downloading hyperframe-5.2.0-py2.py3-none-any.whl.metadata (7.2 kB)\n",
            "Collecting hpack<4,>=3.0 (from h2==3.*->httpcore==0.9.*->httpx==0.13.3->googletrans==4.0.0-rc1)\n",
            "  Downloading hpack-3.0.0-py2.py3-none-any.whl.metadata (7.0 kB)\n",
            "Downloading httpx-0.13.3-py3-none-any.whl (55 kB)\n",
            "\u001b[2K   \u001b[90m━━━━━━━━━━━━━━━━━━━━━━━━━━━━━━━━━━━━━━━━\u001b[0m \u001b[32m55.1/55.1 kB\u001b[0m \u001b[31m4.1 MB/s\u001b[0m eta \u001b[36m0:00:00\u001b[0m\n",
            "\u001b[?25hDownloading chardet-3.0.4-py2.py3-none-any.whl (133 kB)\n",
            "\u001b[2K   \u001b[90m━━━━━━━━━━━━━━━━━━━━━━━━━━━━━━━━━━━━━━━━\u001b[0m \u001b[32m133.4/133.4 kB\u001b[0m \u001b[31m9.7 MB/s\u001b[0m eta \u001b[36m0:00:00\u001b[0m\n",
            "\u001b[?25hDownloading httpcore-0.9.1-py3-none-any.whl (42 kB)\n",
            "\u001b[2K   \u001b[90m━━━━━━━━━━━━━━━━━━━━━━━━━━━━━━━━━━━━━━━━\u001b[0m \u001b[32m42.6/42.6 kB\u001b[0m \u001b[31m2.9 MB/s\u001b[0m eta \u001b[36m0:00:00\u001b[0m\n",
            "\u001b[?25hDownloading idna-2.10-py2.py3-none-any.whl (58 kB)\n",
            "\u001b[2K   \u001b[90m━━━━━━━━━━━━━━━━━━━━━━━━━━━━━━━━━━━━━━━━\u001b[0m \u001b[32m58.8/58.8 kB\u001b[0m \u001b[31m4.1 MB/s\u001b[0m eta \u001b[36m0:00:00\u001b[0m\n",
            "\u001b[?25hDownloading h2-3.2.0-py2.py3-none-any.whl (65 kB)\n",
            "\u001b[2K   \u001b[90m━━━━━━━━━━━━━━━━━━━━━━━━━━━━━━━━━━━━━━━━\u001b[0m \u001b[32m65.0/65.0 kB\u001b[0m \u001b[31m5.4 MB/s\u001b[0m eta \u001b[36m0:00:00\u001b[0m\n",
            "\u001b[?25hDownloading rfc3986-1.5.0-py2.py3-none-any.whl (31 kB)\n",
            "Downloading hstspreload-2025.1.1-py3-none-any.whl (1.3 MB)\n",
            "\u001b[2K   \u001b[90m━━━━━━━━━━━━━━━━━━━━━━━━━━━━━━━━━━━━━━━━\u001b[0m \u001b[32m1.3/1.3 MB\u001b[0m \u001b[31m51.5 MB/s\u001b[0m eta \u001b[36m0:00:00\u001b[0m\n",
            "\u001b[?25hDownloading h11-0.9.0-py2.py3-none-any.whl (53 kB)\n",
            "\u001b[2K   \u001b[90m━━━━━━━━━━━━━━━━━━━━━━━━━━━━━━━━━━━━━━━━\u001b[0m \u001b[32m53.6/53.6 kB\u001b[0m \u001b[31m3.7 MB/s\u001b[0m eta \u001b[36m0:00:00\u001b[0m\n",
            "\u001b[?25hDownloading hpack-3.0.0-py2.py3-none-any.whl (38 kB)\n",
            "Downloading hyperframe-5.2.0-py2.py3-none-any.whl (12 kB)\n",
            "Building wheels for collected packages: googletrans\n",
            "  Building wheel for googletrans (setup.py) ... \u001b[?25l\u001b[?25hdone\n",
            "  Created wheel for googletrans: filename=googletrans-4.0.0rc1-py3-none-any.whl size=17396 sha256=6a1ce2d5870e82546538962eca600d584040a42d45a1c007991a4d47555fc76f\n",
            "  Stored in directory: /root/.cache/pip/wheels/39/17/6f/66a045ea3d168826074691b4b787b8f324d3f646d755443fda\n",
            "Successfully built googletrans\n",
            "Installing collected packages: rfc3986, hyperframe, hpack, h11, chardet, idna, hstspreload, h2, httpcore, httpx, googletrans\n",
            "  Attempting uninstall: hyperframe\n",
            "    Found existing installation: hyperframe 6.1.0\n",
            "    Uninstalling hyperframe-6.1.0:\n",
            "      Successfully uninstalled hyperframe-6.1.0\n",
            "  Attempting uninstall: hpack\n",
            "    Found existing installation: hpack 4.1.0\n",
            "    Uninstalling hpack-4.1.0:\n",
            "      Successfully uninstalled hpack-4.1.0\n",
            "  Attempting uninstall: h11\n",
            "    Found existing installation: h11 0.16.0\n",
            "    Uninstalling h11-0.16.0:\n",
            "      Successfully uninstalled h11-0.16.0\n",
            "  Attempting uninstall: chardet\n",
            "    Found existing installation: chardet 5.2.0\n",
            "    Uninstalling chardet-5.2.0:\n",
            "      Successfully uninstalled chardet-5.2.0\n",
            "  Attempting uninstall: idna\n",
            "    Found existing installation: idna 3.10\n",
            "    Uninstalling idna-3.10:\n",
            "      Successfully uninstalled idna-3.10\n",
            "  Attempting uninstall: h2\n",
            "    Found existing installation: h2 4.2.0\n",
            "    Uninstalling h2-4.2.0:\n",
            "      Successfully uninstalled h2-4.2.0\n",
            "  Attempting uninstall: httpcore\n",
            "    Found existing installation: httpcore 1.0.9\n",
            "    Uninstalling httpcore-1.0.9:\n",
            "      Successfully uninstalled httpcore-1.0.9\n",
            "  Attempting uninstall: httpx\n",
            "    Found existing installation: httpx 0.28.1\n",
            "    Uninstalling httpx-0.28.1:\n",
            "      Successfully uninstalled httpx-0.28.1\n",
            "\u001b[31mERROR: pip's dependency resolver does not currently take into account all the packages that are installed. This behaviour is the source of the following dependency conflicts.\n",
            "langsmith 0.3.44 requires httpx<1,>=0.23.0, but you have httpx 0.13.3 which is incompatible.\n",
            "gradio 5.31.0 requires httpx>=0.24.1, but you have httpx 0.13.3 which is incompatible.\n",
            "google-genai 1.18.0 requires httpx<1.0.0,>=0.28.1, but you have httpx 0.13.3 which is incompatible.\n",
            "openai 1.84.0 requires httpx<1,>=0.23.0, but you have httpx 0.13.3 which is incompatible.\n",
            "gradio-client 1.10.1 requires httpx>=0.24.1, but you have httpx 0.13.3 which is incompatible.\u001b[0m\u001b[31m\n",
            "\u001b[0mSuccessfully installed chardet-3.0.4 googletrans-4.0.0rc1 h11-0.9.0 h2-3.2.0 hpack-3.0.0 hstspreload-2025.1.1 httpcore-0.9.1 httpx-0.13.3 hyperframe-5.2.0 idna-2.10 rfc3986-1.5.0\n"
          ]
        }
      ]
    },
    {
      "cell_type": "code",
      "source": [
        "from googletrans import Translator, LANGUAGES\n",
        "\n",
        "def obtener_idiomas_soportados():\n",
        "    \"\"\"Muestra una lista de idiomas que la API de Google Translate soporta.\"\"\"\n",
        "    print(\"\\n--- Idiomas Soportados ---\")\n",
        "\n",
        "    for code, name in LANGUAGES.items():\n",
        "        print(f\"  {code}: {name.capitalize()}\")\n",
        "    print(\"--------------------------\")\n",
        "\n",
        "def traducir_texto():\n",
        "    \"\"\"\n",
        "    Función principal para traducir texto ingresado por el usuario.\n",
        "    \"\"\"\n",
        "    translator = Translator()\n",
        "\n",
        "    print(\"\\n--- Traductor de Texto ---\")\n",
        "    print(\"Puedes traducir texto de un idioma a otro.\")\n",
        "    print(\"Escribe 'lista' para ver los idiomas soportados.\")\n",
        "    print(\"Escribe 'salir' para terminar.\")\n",
        "\n",
        "    while True:\n",
        "        texto_a_traducir = input(\"\\nIngresa el texto a traducir: \").strip()\n",
        "\n",
        "        if texto_a_traducir.lower() == 'salir':\n",
        "            print(\"Saliendo del traductor. ¡Hasta luego!\")\n",
        "            break\n",
        "        elif texto_a_traducir.lower() == 'lista':\n",
        "            obtener_idiomas_soportados()\n",
        "            continue\n",
        "\n",
        "\n",
        "        idioma_origen = input(\"Idioma de origen (ej. 'es' para español, 'en' para inglés, o déjalo en blanco para autodetección): \").strip().lower()\n",
        "        idioma_destino = input(\"Idioma de destino (ej. 'en' para inglés, 'fr' para francés): \").strip().lower()\n",
        "\n",
        "\n",
        "        if idioma_destino not in LANGUAGES:\n",
        "            print(\"Error: El código de idioma de destino no es válido. Escribe 'lista' para ver los códigos.\")\n",
        "            continue\n",
        "\n",
        "        try:\n",
        "\n",
        "            if idioma_origen and idioma_origen in LANGUAGES:\n",
        "                traduccion = translator.translate(texto_a_traducir, src=idioma_origen, dest=idioma_destino)\n",
        "            else:\n",
        "                traduccion = translator.translate(texto_a_traducir, dest=idioma_destino)\n",
        "                if traduccion.src:\n",
        "                    print(f\"Idioma de origen detectado: {LANGUAGES.get(traduccion.src, traduccion.src).capitalize()}\")\n",
        "\n",
        "            print(f\"\\n--- Resultado de la Traducción ---\")\n",
        "            print(f\"Original ({LANGUAGES.get(traduccion.src, traduccion.src).capitalize()}): {traduccion.origin}\")\n",
        "            print(f\"Traducido ({LANGUAGES.get(traduccion.dest, traduccion.dest).capitalize()}): {traduccion.text}\")\n",
        "            print(\"---------------------------------\")\n",
        "\n",
        "        except Exception as e:\n",
        "            print(f\"Ocurrió un error durante la traducción: {e}\")\n",
        "            print(\"Asegúrate de tener conexión a internet y que los códigos de idioma sean correctos.\")\n",
        "            print(\"Si el problema persiste, intenta reiniciar el programa o verifica tu instalación de 'googletrans'.\")\n",
        "\n",
        "if __name__ == \"__main__\":\n",
        "    traducir_texto()"
      ],
      "metadata": {
        "colab": {
          "base_uri": "https://localhost:8080/"
        },
        "id": "zVr8HGR7ODNk",
        "outputId": "467695a6-1ce8-4cc5-9bf9-24eda6d724a3"
      },
      "execution_count": 3,
      "outputs": [
        {
          "output_type": "stream",
          "name": "stdout",
          "text": [
            "\n",
            "--- Traductor de Texto ---\n",
            "Puedes traducir texto de un idioma a otro.\n",
            "Escribe 'lista' para ver los idiomas soportados.\n",
            "Escribe 'salir' para terminar.\n",
            "\n",
            "Ingresa el texto a traducir: lista\n",
            "\n",
            "--- Idiomas Soportados ---\n",
            "  af: Afrikaans\n",
            "  sq: Albanian\n",
            "  am: Amharic\n",
            "  ar: Arabic\n",
            "  hy: Armenian\n",
            "  az: Azerbaijani\n",
            "  eu: Basque\n",
            "  be: Belarusian\n",
            "  bn: Bengali\n",
            "  bs: Bosnian\n",
            "  bg: Bulgarian\n",
            "  ca: Catalan\n",
            "  ceb: Cebuano\n",
            "  ny: Chichewa\n",
            "  zh-cn: Chinese (simplified)\n",
            "  zh-tw: Chinese (traditional)\n",
            "  co: Corsican\n",
            "  hr: Croatian\n",
            "  cs: Czech\n",
            "  da: Danish\n",
            "  nl: Dutch\n",
            "  en: English\n",
            "  eo: Esperanto\n",
            "  et: Estonian\n",
            "  tl: Filipino\n",
            "  fi: Finnish\n",
            "  fr: French\n",
            "  fy: Frisian\n",
            "  gl: Galician\n",
            "  ka: Georgian\n",
            "  de: German\n",
            "  el: Greek\n",
            "  gu: Gujarati\n",
            "  ht: Haitian creole\n",
            "  ha: Hausa\n",
            "  haw: Hawaiian\n",
            "  iw: Hebrew\n",
            "  he: Hebrew\n",
            "  hi: Hindi\n",
            "  hmn: Hmong\n",
            "  hu: Hungarian\n",
            "  is: Icelandic\n",
            "  ig: Igbo\n",
            "  id: Indonesian\n",
            "  ga: Irish\n",
            "  it: Italian\n",
            "  ja: Japanese\n",
            "  jw: Javanese\n",
            "  kn: Kannada\n",
            "  kk: Kazakh\n",
            "  km: Khmer\n",
            "  ko: Korean\n",
            "  ku: Kurdish (kurmanji)\n",
            "  ky: Kyrgyz\n",
            "  lo: Lao\n",
            "  la: Latin\n",
            "  lv: Latvian\n",
            "  lt: Lithuanian\n",
            "  lb: Luxembourgish\n",
            "  mk: Macedonian\n",
            "  mg: Malagasy\n",
            "  ms: Malay\n",
            "  ml: Malayalam\n",
            "  mt: Maltese\n",
            "  mi: Maori\n",
            "  mr: Marathi\n",
            "  mn: Mongolian\n",
            "  my: Myanmar (burmese)\n",
            "  ne: Nepali\n",
            "  no: Norwegian\n",
            "  or: Odia\n",
            "  ps: Pashto\n",
            "  fa: Persian\n",
            "  pl: Polish\n",
            "  pt: Portuguese\n",
            "  pa: Punjabi\n",
            "  ro: Romanian\n",
            "  ru: Russian\n",
            "  sm: Samoan\n",
            "  gd: Scots gaelic\n",
            "  sr: Serbian\n",
            "  st: Sesotho\n",
            "  sn: Shona\n",
            "  sd: Sindhi\n",
            "  si: Sinhala\n",
            "  sk: Slovak\n",
            "  sl: Slovenian\n",
            "  so: Somali\n",
            "  es: Spanish\n",
            "  su: Sundanese\n",
            "  sw: Swahili\n",
            "  sv: Swedish\n",
            "  tg: Tajik\n",
            "  ta: Tamil\n",
            "  te: Telugu\n",
            "  th: Thai\n",
            "  tr: Turkish\n",
            "  uk: Ukrainian\n",
            "  ur: Urdu\n",
            "  ug: Uyghur\n",
            "  uz: Uzbek\n",
            "  vi: Vietnamese\n",
            "  cy: Welsh\n",
            "  xh: Xhosa\n",
            "  yi: Yiddish\n",
            "  yo: Yoruba\n",
            "  zu: Zulu\n",
            "--------------------------\n",
            "\n",
            "Ingresa el texto a traducir: hello world\n",
            "Idioma de origen (ej. 'es' para español, 'en' para inglés, o déjalo en blanco para autodetección): en\n",
            "Idioma de destino (ej. 'en' para inglés, 'fr' para francés): en\n",
            "\n",
            "--- Resultado de la Traducción ---\n",
            "Original (English): hello world\n",
            "Traducido (English): hello world\n",
            "---------------------------------\n",
            "\n",
            "Ingresa el texto a traducir: hello world\n",
            "Idioma de origen (ej. 'es' para español, 'en' para inglés, o déjalo en blanco para autodetección): en\n",
            "Idioma de destino (ej. 'en' para inglés, 'fr' para francés): es\n",
            "\n",
            "--- Resultado de la Traducción ---\n",
            "Original (English): hello world\n",
            "Traducido (Spanish): Hola Mundo\n",
            "---------------------------------\n",
            "\n",
            "Ingresa el texto a traducir: salir\n",
            "Saliendo del traductor. ¡Hasta luego!\n"
          ]
        }
      ]
    },
    {
      "cell_type": "code",
      "source": [],
      "metadata": {
        "id": "DCPd3bLowTnJ"
      },
      "execution_count": null,
      "outputs": []
    }
  ]
}
